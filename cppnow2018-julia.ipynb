{
 "cells": [
  {
   "cell_type": "markdown",
   "metadata": {
    "slideshow": {
     "slide_type": "slide"
    }
   },
   "source": [
    "# The Julia language and C++\n",
    "\n",
    "### The perfect marriage?\n",
    "\n",
    "<br/>\n",
    "### C++Now 2018\n",
    "<br/>\n",
    "Keno Fisher, Bart Janssens"
   ]
  },
  {
   "cell_type": "markdown",
   "metadata": {
    "slideshow": {
     "slide_type": "slide"
    }
   },
   "source": [
    "# Short bio: Bart\n",
    "Work: [Royal Military Academy](http://www.rma.ac.be) of Belgium\n",
    "\n",
    "C++:\n",
    "* [K-3D](http://www.k-3d.org)\n",
    " - [BoostCon 2007 presentation on Boost.Python](http://www.k-3d.org/k3d_wiki/images/8/8b/Extreme_Object_Models_Using_Boost.Python.pdf) by previous maintanter Tim Shead\n",
    "* [Coolfluid3](https://coolfluid.github.io)\n",
    " - [C++Now 2013 presentation on using Boost.Proto with Eigen](https://github.com/boostcon/cppnow_presentations_2013/blob/master/fri/proto-eigen-fem.pdf?raw=true)\n",
    " \n",
    "C++ and Julia:\n",
    "* CxxWrap.jl\n",
    "* QML.jl\n",
    "* Trilinos.jl"
   ]
  },
  {
   "cell_type": "markdown",
   "metadata": {
    "slideshow": {
     "slide_type": "slide"
    }
   },
   "source": [
    "# Outline\n",
    "* Why Julia?\n",
    "* Julia intro: a C++ programmer's perspective\n",
    "* CxxWrap.jl\n",
    "* Cxx.jl\n",
    "* Code repository: https://github.com/barche/cppnow2018-julia\n",
    " \n"
   ]
  },
  {
   "cell_type": "markdown",
   "metadata": {
    "slideshow": {
     "slide_type": "slide"
    }
   },
   "source": [
    "# About Julia\n",
    "## Why another language?\n",
    "* Solve the \"two language problem\":\n",
    "  - Prototype in a simple language\n",
    "  - Write production code in a fast language"
   ]
  },
  {
   "cell_type": "markdown",
   "metadata": {
    "slideshow": {
     "slide_type": "subslide"
    }
   },
   "source": [
    "## So what is it?\n",
    "* High-level programming language for scientific computing\n",
    "* Dynamic language\n",
    "* Strongly typed, with user-defined types and generics\n",
    "* JIT-compiled using LLVM\n",
    "* Native interface to C\n",
    "* Central concept: **multiple dispatch**"
   ]
  },
  {
   "cell_type": "markdown",
   "metadata": {
    "slideshow": {
     "slide_type": "subslide"
    }
   },
   "source": [
    "## A simple function"
   ]
  },
  {
   "cell_type": "code",
   "execution_count": 1,
   "metadata": {
    "hideOutput": true,
    "hidePrompt": true
   },
   "outputs": [
    {
     "data": {
      "text/plain": [
       "add (generic function with 1 method)"
      ]
     },
     "execution_count": 1,
     "metadata": {},
     "output_type": "execute_result"
    }
   ],
   "source": [
    "function add(a,b)\n",
    "    return a + b\n",
    "end"
   ]
  },
  {
   "cell_type": "markdown",
   "metadata": {},
   "source": [
    "Shorter version:"
   ]
  },
  {
   "cell_type": "code",
   "execution_count": 2,
   "metadata": {},
   "outputs": [
    {
     "data": {
      "text/plain": [
       "add (generic function with 1 method)"
      ]
     },
     "execution_count": 2,
     "metadata": {},
     "output_type": "execute_result"
    }
   ],
   "source": [
    "add(a,b) = a+b"
   ]
  },
  {
   "cell_type": "code",
   "execution_count": 3,
   "metadata": {
    "slideshow": {
     "slide_type": "fragment"
    }
   },
   "outputs": [
    {
     "data": {
      "text/plain": [
       "3"
      ]
     },
     "execution_count": 3,
     "metadata": {},
     "output_type": "execute_result"
    }
   ],
   "source": [
    "add(1,2)"
   ]
  },
  {
   "cell_type": "code",
   "execution_count": 4,
   "metadata": {
    "slideshow": {
     "slide_type": "fragment"
    }
   },
   "outputs": [
    {
     "data": {
      "text/plain": [
       "3.0"
      ]
     },
     "execution_count": 4,
     "metadata": {},
     "output_type": "execute_result"
    }
   ],
   "source": [
    "add(1.0, 2.0)"
   ]
  },
  {
   "cell_type": "markdown",
   "metadata": {
    "slideshow": {
     "slide_type": "subslide"
    }
   },
   "source": [
    "## Where are the types?"
   ]
  },
  {
   "cell_type": "code",
   "execution_count": 5,
   "metadata": {},
   "outputs": [
    {
     "data": {
      "text/plain": [
       "Int64"
      ]
     },
     "execution_count": 5,
     "metadata": {},
     "output_type": "execute_result"
    }
   ],
   "source": [
    "typeof(1)"
   ]
  },
  {
   "cell_type": "code",
   "execution_count": 6,
   "metadata": {
    "slideshow": {
     "slide_type": "fragment"
    }
   },
   "outputs": [
    {
     "data": {
      "text/plain": [
       "Int64"
      ]
     },
     "execution_count": 6,
     "metadata": {},
     "output_type": "execute_result"
    }
   ],
   "source": [
    "typeof(add(1,2))"
   ]
  },
  {
   "cell_type": "code",
   "execution_count": 7,
   "metadata": {
    "slideshow": {
     "slide_type": "fragment"
    }
   },
   "outputs": [
    {
     "data": {
      "text/plain": [
       "Float64"
      ]
     },
     "execution_count": 7,
     "metadata": {},
     "output_type": "execute_result"
    }
   ],
   "source": [
    "typeof(add(1.0,2))"
   ]
  },
  {
   "cell_type": "markdown",
   "metadata": {
    "slideshow": {
     "slide_type": "subslide"
    }
   },
   "source": [
    "## A look at the assembly\n",
    "Each combination of types for the arguments compiles a different version of the code:"
   ]
  },
  {
   "cell_type": "code",
   "execution_count": 8,
   "metadata": {},
   "outputs": [
    {
     "name": "stdout",
     "output_type": "stream",
     "text": [
      "\t.section\t__TEXT,__text,regular,pure_instructions\n",
      "Filename: In[2]\n",
      "\tpushq\t%rbp\n",
      "\tmovq\t%rsp, %rbp\n",
      "Source line: 1\n",
      "\tleaq\t(%rdi,%rsi), %rax\n",
      "\tpopq\t%rbp\n",
      "\tretq\n",
      "\tnopw\t(%rax,%rax)\n"
     ]
    }
   ],
   "source": [
    "@code_native add(1,2)"
   ]
  },
  {
   "cell_type": "code",
   "execution_count": 9,
   "metadata": {},
   "outputs": [
    {
     "name": "stdout",
     "output_type": "stream",
     "text": [
      "\t.section\t__TEXT,__text,regular,pure_instructions\n",
      "Filename: In[2]\n",
      "\tpushq\t%rbp\n",
      "\tmovq\t%rsp, %rbp\n",
      "Source line: 1\n",
      "\taddsd\t%xmm1, %xmm0\n",
      "\tpopq\t%rbp\n",
      "\tretq\n",
      "\tnopw\t(%rax,%rax)\n"
     ]
    }
   ],
   "source": [
    "@code_native add(1.0,2.0)"
   ]
  },
  {
   "cell_type": "markdown",
   "metadata": {
    "slideshow": {
     "slide_type": "subslide"
    }
   },
   "source": [
    "## Equivalence with C++\n",
    "The Julia function `add(a,b) = a+b` is equivalent to the following C++ function:\n",
    "\n",
    "```c++\n",
    "template<typename A, typename B>\n",
    "auto add(A a, B b) -> decltype(a + b)\n",
    "{\n",
    "    return a + b;\n",
    "}\n",
    "```\n",
    "\n",
    "* Template function valid for any type `A` and `B`\n",
    "* C++ compiles a new version for every combination of types\n",
    "* Automatic (static) computation of the return type (`decltype` annotation)"
   ]
  },
  {
   "cell_type": "markdown",
   "metadata": {
    "slideshow": {
     "slide_type": "subslide"
    }
   },
   "source": [
    "## Types"
   ]
  },
  {
   "cell_type": "code",
   "execution_count": 10,
   "metadata": {},
   "outputs": [],
   "source": [
    "# Define a type\n",
    "struct MyNumber\n",
    "    n::Int\n",
    "end"
   ]
  },
  {
   "cell_type": "code",
   "execution_count": 11,
   "metadata": {},
   "outputs": [
    {
     "data": {
      "text/plain": [
       "MyNumber(2)"
      ]
     },
     "execution_count": 11,
     "metadata": {},
     "output_type": "execute_result"
    }
   ],
   "source": [
    "# Create an instance\n",
    "const mynum = MyNumber(2)"
   ]
  },
  {
   "cell_type": "markdown",
   "metadata": {
    "slideshow": {
     "slide_type": "subslide"
    }
   },
   "source": [
    "## What about our `add` function?"
   ]
  },
  {
   "cell_type": "code",
   "execution_count": 12,
   "metadata": {},
   "outputs": [
    {
     "ename": "LoadError",
     "evalue": "\u001b[91mMethodError: no method matching +(::MyNumber, ::Int64)\u001b[0m\nClosest candidates are:\n  +(::Any, ::Any, \u001b[91m::Any\u001b[39m, \u001b[91m::Any...\u001b[39m) at operators.jl:424\n  +(\u001b[91m::Complex{Bool}\u001b[39m, ::Real) at complex.jl:247\n  +(\u001b[91m::Char\u001b[39m, ::Integer) at char.jl:40\n  ...\u001b[39m",
     "output_type": "error",
     "traceback": [
      "\u001b[91mMethodError: no method matching +(::MyNumber, ::Int64)\u001b[0m\nClosest candidates are:\n  +(::Any, ::Any, \u001b[91m::Any\u001b[39m, \u001b[91m::Any...\u001b[39m) at operators.jl:424\n  +(\u001b[91m::Complex{Bool}\u001b[39m, ::Real) at complex.jl:247\n  +(\u001b[91m::Char\u001b[39m, ::Integer) at char.jl:40\n  ...\u001b[39m",
      "",
      "Stacktrace:",
      " [1] \u001b[1madd\u001b[22m\u001b[22m\u001b[1m(\u001b[22m\u001b[22m::MyNumber, ::Int64\u001b[1m)\u001b[22m\u001b[22m at \u001b[1m./In[2]:1\u001b[22m\u001b[22m",
      " [2] \u001b[1minclude_string\u001b[22m\u001b[22m\u001b[1m(\u001b[22m\u001b[22m::String, ::String\u001b[1m)\u001b[22m\u001b[22m at \u001b[1m./loading.jl:522\u001b[22m\u001b[22m"
     ]
    }
   ],
   "source": [
    "add(mynum, 2)"
   ]
  },
  {
   "cell_type": "code",
   "execution_count": 13,
   "metadata": {},
   "outputs": [
    {
     "data": {
      "text/plain": [
       "add (generic function with 2 methods)"
      ]
     },
     "execution_count": 13,
     "metadata": {},
     "output_type": "execute_result"
    }
   ],
   "source": [
    "add(a::MyNumber, b) = MyNumber(a.n + b)"
   ]
  },
  {
   "cell_type": "code",
   "execution_count": 14,
   "metadata": {
    "slideshow": {
     "slide_type": "subslide"
    }
   },
   "outputs": [
    {
     "data": {
      "text/html": [
       "2 methods for generic function <b>add</b>:<ul><li> add(a::<b>MyNumber</b>, b) at In[13]:1</li> <li> add(a, b) at In[2]:1</li> </ul>"
      ],
      "text/plain": [
       "# 2 methods for generic function \"add\":\n",
       "add(a::MyNumber, b) in Main at In[13]:1\n",
       "add(a, b) in Main at In[2]:1"
      ]
     },
     "execution_count": 14,
     "metadata": {},
     "output_type": "execute_result"
    }
   ],
   "source": [
    "methods(add)"
   ]
  },
  {
   "cell_type": "code",
   "execution_count": 15,
   "metadata": {},
   "outputs": [
    {
     "data": {
      "text/plain": [
       "MyNumber(4)"
      ]
     },
     "execution_count": 15,
     "metadata": {},
     "output_type": "execute_result"
    }
   ],
   "source": [
    "add(mynum, 2)"
   ]
  },
  {
   "cell_type": "markdown",
   "metadata": {},
   "source": [
    "## Inheritance\n",
    "Julia supports single inheritance from abstract base types:"
   ]
  },
  {
   "cell_type": "code",
   "execution_count": 31,
   "metadata": {},
   "outputs": [
    {
     "data": {
      "text/plain": [
       "MyBase"
      ]
     },
     "execution_count": 31,
     "metadata": {},
     "output_type": "execute_result"
    }
   ],
   "source": [
    "abstract type MyBase end\n",
    "struct MyConcrete <: MyBase\n",
    "    a::Int\n",
    "end\n",
    "# This kind of introspection is built-in:\n",
    "supertype(MyConcrete)"
   ]
  },
  {
   "cell_type": "code",
   "execution_count": 17,
   "metadata": {},
   "outputs": [
    {
     "data": {
      "text/plain": [
       "3"
      ]
     },
     "execution_count": 17,
     "metadata": {},
     "output_type": "execute_result"
    }
   ],
   "source": [
    "geta(x::MyBase) = x.a\n",
    "some_a = MyConcrete(3)\n",
    "geta(some_a)"
   ]
  },
  {
   "cell_type": "markdown",
   "metadata": {},
   "source": [
    "## Constness"
   ]
  },
  {
   "cell_type": "code",
   "execution_count": 18,
   "metadata": {},
   "outputs": [
    {
     "ename": "LoadError",
     "evalue": "\u001b[91mtype MyConcrete is immutable\u001b[39m",
     "output_type": "error",
     "traceback": [
      "\u001b[91mtype MyConcrete is immutable\u001b[39m",
      "",
      "Stacktrace:",
      " [1] \u001b[1minclude_string\u001b[22m\u001b[22m\u001b[1m(\u001b[22m\u001b[22m::String, ::String\u001b[1m)\u001b[22m\u001b[22m at \u001b[1m./loading.jl:522\u001b[22m\u001b[22m"
     ]
    }
   ],
   "source": [
    "some_a.a = 2"
   ]
  },
  {
   "cell_type": "code",
   "execution_count": 21,
   "metadata": {},
   "outputs": [
    {
     "name": "stdout",
     "output_type": "stream",
     "text": [
      "geta(mutable_a) = 4\n"
     ]
    },
    {
     "data": {
      "text/plain": [
       "42"
      ]
     },
     "execution_count": 21,
     "metadata": {},
     "output_type": "execute_result"
    }
   ],
   "source": [
    "# Make a mutable subtype:\n",
    "mutable struct MutableConcrete <: MyBase\n",
    "    a::Int\n",
    "end\n",
    "\n",
    "mutable_a = MutableConcrete(4)\n",
    "# Still works:\n",
    "@show geta(mutable_a)\n",
    "# We can change it now:\n",
    "mutable_a.a = 42\n",
    "geta(mutable_a)"
   ]
  },
  {
   "cell_type": "markdown",
   "metadata": {
    "slideshow": {
     "slide_type": "subslide"
    }
   },
   "source": [
    "## Generic types"
   ]
  },
  {
   "cell_type": "code",
   "execution_count": 29,
   "metadata": {},
   "outputs": [
    {
     "data": {
      "text/plain": [
       "Point{Int64,3}((1, 2, 3))"
      ]
     },
     "execution_count": 29,
     "metadata": {},
     "output_type": "execute_result"
    }
   ],
   "source": [
    "struct Point{T,N}\n",
    "    coords::NTuple{N,T}\n",
    "end\n",
    "p1 = Point((1,2,3))"
   ]
  },
  {
   "cell_type": "code",
   "execution_count": 30,
   "metadata": {},
   "outputs": [
    {
     "data": {
      "text/plain": [
       "Point{Float64,2}((2.0, 3.0))"
      ]
     },
     "execution_count": 30,
     "metadata": {},
     "output_type": "execute_result"
    }
   ],
   "source": [
    "p2 = Point((2.0, 3.0))"
   ]
  },
  {
   "cell_type": "code",
   "execution_count": 28,
   "metadata": {},
   "outputs": [
    {
     "ename": "LoadError",
     "evalue": "\u001b[91mMethodError: no method matching +(::TypeVar, ::TypeVar)\u001b[0m\nClosest candidates are:\n  +(::Any, ::Any, \u001b[91m::Any\u001b[39m, \u001b[91m::Any...\u001b[39m) at operators.jl:424\u001b[39m",
     "output_type": "error",
     "traceback": [
      "\u001b[91mMethodError: no method matching +(::TypeVar, ::TypeVar)\u001b[0m\nClosest candidates are:\n  +(::Any, ::Any, \u001b[91m::Any\u001b[39m, \u001b[91m::Any...\u001b[39m) at operators.jl:424\u001b[39m",
      "",
      "Stacktrace:",
      " [1] \u001b[1minclude_string\u001b[22m\u001b[22m\u001b[1m(\u001b[22m\u001b[22m::String, ::String\u001b[1m)\u001b[22m\u001b[22m at \u001b[1m./loading.jl:522\u001b[22m\u001b[22m"
     ]
    }
   ],
   "source": [
    "# While this is allowed in C++, it's not in Julia:\n",
    "struct Combined{T,N1,N2}\n",
    "    coords::NTuple{N1+N2,T}\n",
    "end"
   ]
  },
  {
   "cell_type": "markdown",
   "metadata": {
    "slideshow": {
     "slide_type": "subslide"
    }
   },
   "source": [
    "## Multiple dispatch\n",
    "* In Julia, not writing types means any type can be used\n",
    "* It still tracks the types and computes the correct return type\n",
    "* Each combination of argument types yields a newly compiled version of the function\n",
    "* Type computation can happen dynamically (at runtime) or statically (during JIT compilation)\n",
    "* The static type computation is equivalent to the C++ version\n",
    "* Deciding which function to call is **multiple dispatch** (static or dynamic)"
   ]
  },
  {
   "cell_type": "markdown",
   "metadata": {
    "slideshow": {
     "slide_type": "subslide"
    }
   },
   "source": [
    "## Dynamic dispatch\n",
    "\n",
    "Dynamic dispatch is similar to C++ virtual functions, except that in Julia it dispatches on more than just the first argument. Consider an heterogeneous array:\n"
   ]
  },
  {
   "cell_type": "code",
   "execution_count": 10,
   "metadata": {},
   "outputs": [
    {
     "data": {
      "text/plain": [
       "3-element Array{Any,1}:\n",
       "  5          \n",
       " 0+6im       \n",
       "   [7.0, 2.0]"
      ]
     },
     "execution_count": 10,
     "metadata": {},
     "output_type": "execute_result"
    }
   ],
   "source": [
    "A1 = [1, 2.0, [3,4]]\n"
   ]
  },
  {
   "cell_type": "code",
   "execution_count": 14,
   "metadata": {},
   "outputs": [
    {
     "data": {
      "text/plain": [
       "3-element Array{Real,1}:\n",
       " 1  \n",
       " 2.0\n",
       " 5.0"
      ]
     },
     "execution_count": 14,
     "metadata": {},
     "output_type": "execute_result"
    }
   ],
   "source": [
    "# Take the norm of every element\n",
    "norm.(A1)"
   ]
  },
  {
   "cell_type": "markdown",
   "metadata": {
    "slideshow": {
     "slide_type": "subslide"
    }
   },
   "source": [
    "## Dynamic dispatch vs. virtual functions\n",
    "* Because every element has a different type, the `norm` function is chosen at *runtime*, depending on the actual content of the array\n",
    "* In C++, this can realized using a common base class and a virtual `norm` function."
   ]
  },
  {
   "cell_type": "markdown",
   "metadata": {
    "slideshow": {
     "slide_type": "subslide"
    }
   },
   "source": [
    "Let's add a second array:"
   ]
  },
  {
   "cell_type": "code",
   "execution_count": 17,
   "metadata": {},
   "outputs": [
    {
     "data": {
      "text/plain": [
       "3-element Array{Any,1}:\n",
       "   [5.0, 6.0]\n",
       " 0+7im       \n",
       "  8          "
      ]
     },
     "execution_count": 17,
     "metadata": {},
     "output_type": "execute_result"
    }
   ],
   "source": [
    "A2 = [[5, 6.0], 7im, 8]"
   ]
  },
  {
   "cell_type": "markdown",
   "metadata": {
    "slideshow": {
     "slide_type": "fragment"
    }
   },
   "source": [
    "Now adding this to the previous array:"
   ]
  },
  {
   "cell_type": "code",
   "execution_count": 18,
   "metadata": {},
   "outputs": [
    {
     "data": {
      "text/plain": [
       "3-element Array{Any,1}:\n",
       "     [6.0, 7.0]\n",
       " 2.0+7.0im     \n",
       "     [11, 12]  "
      ]
     },
     "execution_count": 18,
     "metadata": {},
     "output_type": "execute_result"
    }
   ],
   "source": [
    "A1 .+ A2"
   ]
  },
  {
   "cell_type": "markdown",
   "metadata": {
    "slideshow": {
     "slide_type": "fragment"
    }
   },
   "source": [
    "This performs a dynamic dispatch based on *both* arguments to `+`"
   ]
  },
  {
   "cell_type": "markdown",
   "metadata": {
    "slideshow": {
     "slide_type": "subslide"
    }
   },
   "source": [
    "## Julia for C++ programmers: summary\n",
    "\n",
    "|   |Julia|C++|\n",
    "|---|---|---|\n",
    "|Types|☑️|☑️|\n",
    "|Inheritance|Single, abstract|Multiple, concrete|\n",
    "|Constness|Type level|Variable level|\n",
    "|Methods part of class |❌|☑️|\n",
    "|Generic types|☑️|☑️|\n",
    "|Compile-time type computation|❌|☑️|\n",
    "|Introspection|☑️|❌|\n",
    "|Multiple dispatch|static + dynamic|static|"
   ]
  },
  {
   "cell_type": "markdown",
   "metadata": {
    "slideshow": {
     "slide_type": "slide"
    }
   },
   "source": [
    "# CxxWrap\n",
    "* Github page: https://github.com/JuliaInterop/CxxWrap.jl\n",
    "* Makes use of the native C calling ability of Julia\n",
    "* Most code for wrapping C++ is written in C++, compiled with your favourite compiler\n",
    "* Inspired by Boost.Python and pybind11"
   ]
  },
  {
   "cell_type": "markdown",
   "metadata": {
    "slideshow": {
     "slide_type": "subslide"
    }
   },
   "source": [
    "## Calling C functions from Julia\n",
    "Using `ccall`:"
   ]
  },
  {
   "cell_type": "code",
   "execution_count": 27,
   "metadata": {},
   "outputs": [
    {
     "data": {
      "text/plain": [
       "1.0"
      ]
     },
     "execution_count": 27,
     "metadata": {},
     "output_type": "execute_result"
    }
   ],
   "source": [
    "ccall(:fabs, Float64, (Float64,),-1)"
   ]
  },
  {
   "cell_type": "markdown",
   "metadata": {
    "slideshow": {
     "slide_type": "subslide"
    }
   },
   "source": [
    "The overhead is low:"
   ]
  },
  {
   "cell_type": "code",
   "execution_count": 28,
   "metadata": {},
   "outputs": [],
   "source": [
    "using BenchmarkTools"
   ]
  },
  {
   "cell_type": "code",
   "execution_count": 29,
   "metadata": {},
   "outputs": [
    {
     "name": "stdout",
     "output_type": "stream",
     "text": [
      "  3.612 ns (0 allocations: 0 bytes)\n"
     ]
    },
    {
     "data": {
      "text/plain": [
       "1.0"
      ]
     },
     "execution_count": 29,
     "metadata": {},
     "output_type": "execute_result"
    }
   ],
   "source": [
    "@btime ccall(:fabs, Float64, (Float64,),-1.0)"
   ]
  },
  {
   "cell_type": "code",
   "execution_count": 30,
   "metadata": {},
   "outputs": [
    {
     "name": "stdout",
     "output_type": "stream",
     "text": [
      "  2.539 ns (0 allocations: 0 bytes)\n"
     ]
    },
    {
     "data": {
      "text/plain": [
       "1.0"
      ]
     },
     "execution_count": 30,
     "metadata": {},
     "output_type": "execute_result"
    }
   ],
   "source": [
    "@btime abs(-1.0)"
   ]
  },
  {
   "cell_type": "markdown",
   "metadata": {
    "slideshow": {
     "slide_type": "subslide"
    }
   },
   "source": [
    "## CxxWrap approach for functions\n",
    "* First argument to `ccall` can be a function pointer\n",
    "* For C-like functions: pass pointer directly\n",
    "* Otherwise: pass a function pointer that has the actual arguments _and_ a pointer to an `std::function` closure"
   ]
  },
  {
   "cell_type": "markdown",
   "metadata": {
    "slideshow": {
     "slide_type": "subslide"
    }
   },
   "source": [
    "## Example\n",
    "Code from [`tutorials/cxxwrap/hello_world`](tutorials/cxxwrap/hello_world):\n",
    "```c++\n",
    "#include <iostream>\n",
    "#include <jlcxx/jlcxx.hpp>\n",
    "\n",
    "void hello() { std::cout << \"hello world!\" << std::endl; }\n",
    "\n",
    "JULIA_CPP_MODULE_BEGIN(registry)\n",
    "  jlcxx::Module& mod = registry.create_module(\"Hello\");\n",
    "\n",
    "  mod.method(\"hello\", hello);\n",
    "\n",
    "JULIA_CPP_MODULE_END\n",
    "```"
   ]
  },
  {
   "cell_type": "markdown",
   "metadata": {
    "slideshow": {
     "slide_type": "subslide"
    }
   },
   "source": [
    "### CMake:\n",
    "```cmake\n",
    "project(Hello)\n",
    "cmake_minimum_required(VERSION 2.8.12)\n",
    "\n",
    "find_package(JlCxx REQUIRED)\n",
    "\n",
    "set(CMAKE_INSTALL_RPATH \"${JlCxx_DIR}/../\")\n",
    "set(CMAKE_INSTALL_RPATH_USE_LINK_PATH TRUE)\n",
    "set(CMAKE_MACOSX_RPATH 1)\n",
    "set(CMAKE_CXX_FLAGS \"${CMAKE_CXX_FLAGS} -std=c++11\")\n",
    "\n",
    "add_library(hello SHARED hello.cpp)\n",
    "target_link_libraries(hello JlCxx::cxxwrap_julia)\n",
    "```"
   ]
  },
  {
   "cell_type": "markdown",
   "metadata": {
    "slideshow": {
     "slide_type": "subslide"
    }
   },
   "source": [
    "## Running in Julia"
   ]
  },
  {
   "cell_type": "code",
   "execution_count": 36,
   "metadata": {
    "slideshow": {
     "slide_type": "fragment"
    }
   },
   "outputs": [],
   "source": [
    "# Customize this to your actual build directory\n",
    "buildroot = joinpath(ENV[\"HOME\"], \"src/build/cppnow2018\");"
   ]
  },
  {
   "cell_type": "code",
   "execution_count": 38,
   "metadata": {
    "slideshow": {
     "slide_type": "fragment"
    }
   },
   "outputs": [],
   "source": [
    "using CxxWrap"
   ]
  },
  {
   "cell_type": "code",
   "execution_count": 43,
   "metadata": {
    "slideshow": {
     "slide_type": "fragment"
    }
   },
   "outputs": [
    {
     "name": "stderr",
     "output_type": "stream",
     "text": [
      "WARNING: replacing module Hello\n"
     ]
    }
   ],
   "source": [
    "wrap_modules(joinpath(buildroot, \"hello/libhello\"))"
   ]
  },
  {
   "cell_type": "code",
   "execution_count": 44,
   "metadata": {
    "slideshow": {
     "slide_type": "fragment"
    }
   },
   "outputs": [
    {
     "name": "stdout",
     "output_type": "stream",
     "text": [
      "hello world!\n"
     ]
    }
   ],
   "source": [
    "Hello.hello()"
   ]
  },
  {
   "cell_type": "markdown",
   "metadata": {
    "slideshow": {
     "slide_type": "subslide"
    }
   },
   "source": [
    "## Behind the scenes"
   ]
  },
  {
   "cell_type": "code",
   "execution_count": null,
   "metadata": {},
   "outputs": [],
   "source": []
  },
  {
   "cell_type": "markdown",
   "metadata": {
    "slideshow": {
     "slide_type": "subslide"
    }
   },
   "source": [
    "#### Some timings\n",
    "Loop over 50 M elements doing `double` multiplication:\n",
    "```\n",
    "Julia:\n",
    "  0.066912 seconds (4 allocations: 160 bytes)\n",
    "ccall in Julia loop:\n",
    "  0.104013 seconds (4 allocations: 160 bytes)\n",
    "CxxWrap.jl call in Julia loop:\n",
    "  0.106241 seconds (4 allocations: 160 bytes)\n",
    "C++, loop in the C++ code:\n",
    "  0.064130 seconds (4 allocations: 160 bytes)\n",
    "Julia cfunction callback in C++ loop\n",
    "  0.277433 seconds (4 allocations: 160 bytes)\n",
    "```"
   ]
  },
  {
   "cell_type": "markdown",
   "metadata": {
    "slideshow": {
     "slide_type": "subslide"
    }
   },
   "source": [
    "## [Trilinos.jl](https://github.com/barche/Trilinos.jl)\n",
    "\n",
    "* Interface to some parts of the [Trilinos](https://trilinos.org/) C++ library\n",
    "* Focus on the Tpetra matrix library and iterative solvers\n",
    "* Uses CxxWrap.jl\n",
    "* Example: 2D Laplace in C++ and Julia"
   ]
  },
  {
   "cell_type": "markdown",
   "metadata": {
    "slideshow": {
     "slide_type": "subslide"
    }
   },
   "source": [
    "### Laplace example:\n",
    "Solve the equation $\\nabla^2 \\varphi + f = 0 $ with $f = 2h^2((1-x^2)+(1-y^2))$ and 0 on the boundary:\n",
    "\n",
    "<img src=\"images/laplace2d.png\" width=700px>"
   ]
  },
  {
   "cell_type": "markdown",
   "metadata": {
    "slideshow": {
     "slide_type": "subslide"
    }
   },
   "source": [
    "### C++ code\n",
    "```c++\n",
    "template<typename MatrixT>\n",
    "void fill_laplace2d(MatrixT& A, const CartesianGrid& g)\n",
    "{\n",
    "  Teuchos::TimeMonitor local_timer(*fill_time);\n",
    "  const auto& rowmap = *A.getRowMap();\n",
    "  const local_t n_my_elms = rowmap.getNodeNumElements();\n",
    "\n",
    "  // storage for the per-row values\n",
    "  global_t row_indices[5] = {0,0,0,0,0};\n",
    "  scalar_t row_values[5] = {4.0,-1.0,-1.0,-1.0,-1.0};\n",
    "\n",
    "  for(local_t i = 0; i != n_my_elms; ++i)\n",
    "  {\n",
    "    const global_t global_row = rowmap.getGlobalElement(i);\n",
    "    const local_t row_n_elems = laplace2d_indices(row_indices, global_row, g);\n",
    "    row_values[0] = 4.0 - (5-row_n_elems);\n",
    "    A.replaceGlobalValues(global_row, Teuchos::ArrayView<global_t>(row_indices,row_n_elems), Teuchos::ArrayView<scalar_t>(row_values,row_n_elems));\n",
    "  }\n",
    "}\n",
    "```"
   ]
  },
  {
   "cell_type": "markdown",
   "metadata": {
    "slideshow": {
     "slide_type": "subslide"
    }
   },
   "source": [
    "### Julia code\n",
    "```julia\n",
    "function fill_laplace2d!(A, g::CartesianGrid)\n",
    "  rowmap = Tpetra.getRowMap(A)\n",
    "  n_my_elms = Tpetra.getNodeNumElements(rowmap)\n",
    "\n",
    "  # storage for the per-row values\n",
    "  row_indices = [0,0,0,0,0]\n",
    "  row_values = [4.0,-1.0,-1.0,-1.0,-1.0]\n",
    "\n",
    "  for i in 0:n_my_elms-1\n",
    "    global_row = Tpetra.getGlobalElement(rowmap,i)\n",
    "    row_n_elems = laplace2d_indices!(row_indices, global_row, g)\n",
    "    row_values[1] = 4.0 - (5-row_n_elems)\n",
    "    Tpetra.replaceGlobalValues(A, global_row, Teuchos.ArrayView(row_indices,row_n_elems), Teuchos.ArrayView(row_values,row_n_elems))\n",
    "  end\n",
    "end\n",
    "```"
   ]
  },
  {
   "cell_type": "markdown",
   "metadata": {
    "slideshow": {
     "slide_type": "subslide"
    }
   },
   "source": [
    "### Timing comparison for 1000 x 1000 matrix (in ms)\n",
    "|                  |C++  |Julia|\n",
    "|------------------|-----|-----|\n",
    "|Graph construction|190.7|115.2|\n",
    "|Source term       |41.17|32.01|\n",
    "|Matrix filling    |137.1|102.5|\n",
    "|Dirichlet setup   |0.899|0.761|\n",
    "|Check time        |41.06|29.42|"
   ]
  }
 ],
 "metadata": {
  "celltoolbar": "Slideshow",
  "kernelspec": {
   "display_name": "Julia 0.6.2",
   "language": "julia",
   "name": "julia-0.6"
  },
  "language_info": {
   "file_extension": ".jl",
   "mimetype": "application/julia",
   "name": "julia",
   "version": "0.6.2"
  }
 },
 "nbformat": 4,
 "nbformat_minor": 2
}
