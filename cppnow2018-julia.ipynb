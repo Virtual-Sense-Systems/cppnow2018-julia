{
 "cells": [
  {
   "cell_type": "markdown",
   "metadata": {
    "slideshow": {
     "slide_type": "slide"
    }
   },
   "source": [
    "# The Julia language and C++\n",
    "\n",
    "### The perfect marriage?\n",
    "\n",
    "<br/>\n",
    "### C++Now 2018\n",
    "<br/>\n",
    "Keno Fischer, Bart Janssens"
   ]
  },
  {
   "cell_type": "markdown",
   "metadata": {
    "slideshow": {
     "slide_type": "slide"
    }
   },
   "source": [
    "# Short bio: Bart\n",
    "Work: [Royal Military Academy](http://www.rma.ac.be) of Belgium\n",
    "\n",
    "C++:\n",
    "* [K-3D](http://www.k-3d.org): [BoostCon 2007 presentation on Boost.Python](http://www.k-3d.org/k3d_wiki/images/8/8b/Extreme_Object_Models_Using_Boost.Python.pdf) by previous maintanter Tim Shead\n",
    "* [Coolfluid3](https://coolfluid.github.io): [C++Now 2013 presentation on using Boost.Proto with Eigen](https://github.com/boostcon/cppnow_presentations_2013/blob/master/fri/proto-eigen-fem.pdf?raw=true)\n",
    " \n",
    "C++ and Julia:\n",
    "* [CxxWrap.jl](https://github.com/JuliaInterop/CxxWrap.jl)\n",
    "* [QML.jl](https://github.com/barche/QML.jl)\n",
    "* [Trilinos.jl](https://github.com/barche/Trilinos.jl)"
   ]
  },
  {
   "cell_type": "markdown",
   "metadata": {
    "slideshow": {
     "slide_type": "slide"
    }
   },
   "source": [
    "<style>\n",
    ".rendered_html {\n",
    "    font-size: 2px;\n",
    "}\n",
    "</style>\n",
    "# Outline\n",
    "* Why Julia?\n",
    "* Julia intro: a C++ programmer's perspective\n",
    "* CxxWrap.jl\n",
    "* Cxx.jl\n",
    "* Code repository: https://github.com/barche/cppnow2018-julia\n",
    " \n"
   ]
  },
  {
   "cell_type": "markdown",
   "metadata": {
    "slideshow": {
     "slide_type": "slide"
    }
   },
   "source": [
    "# About Julia\n",
    "## Why another language?\n",
    "* Solve the \"two language problem\":\n",
    "  - Prototype in a simple language\n",
    "  - Write production code in a fast language"
   ]
  },
  {
   "cell_type": "markdown",
   "metadata": {
    "slideshow": {
     "slide_type": "subslide"
    }
   },
   "source": [
    "## So what is it?\n",
    "* High-level programming language for scientific computing\n",
    "* Dynamic language\n",
    "* Strongly typed, with user-defined types and generics\n",
    "* JIT-compiled using LLVM\n",
    "* Native interface to C\n",
    "* Central concept: **(dynamic) multiple dispatch**"
   ]
  },
  {
   "cell_type": "markdown",
   "metadata": {
    "slideshow": {
     "slide_type": "subslide"
    }
   },
   "source": [
    "## A simple function"
   ]
  },
  {
   "cell_type": "code",
   "execution_count": 1,
   "metadata": {
    "hideOutput": true,
    "hidePrompt": true
   },
   "outputs": [
    {
     "data": {
      "text/plain": [
       "add (generic function with 1 method)"
      ]
     },
     "execution_count": 1,
     "metadata": {},
     "output_type": "execute_result"
    }
   ],
   "source": [
    "function add(a,b)\n",
    "    return a + b\n",
    "end"
   ]
  },
  {
   "cell_type": "markdown",
   "metadata": {},
   "source": [
    "Shorter version:"
   ]
  },
  {
   "cell_type": "code",
   "execution_count": 2,
   "metadata": {},
   "outputs": [
    {
     "data": {
      "text/plain": [
       "add (generic function with 1 method)"
      ]
     },
     "execution_count": 2,
     "metadata": {},
     "output_type": "execute_result"
    }
   ],
   "source": [
    "add(a,b) = a+b"
   ]
  },
  {
   "cell_type": "code",
   "execution_count": 3,
   "metadata": {
    "slideshow": {
     "slide_type": "fragment"
    }
   },
   "outputs": [
    {
     "data": {
      "text/plain": [
       "3"
      ]
     },
     "execution_count": 3,
     "metadata": {},
     "output_type": "execute_result"
    }
   ],
   "source": [
    "add(1,2)"
   ]
  },
  {
   "cell_type": "code",
   "execution_count": 4,
   "metadata": {
    "slideshow": {
     "slide_type": "fragment"
    }
   },
   "outputs": [
    {
     "data": {
      "text/plain": [
       "3.0"
      ]
     },
     "execution_count": 4,
     "metadata": {},
     "output_type": "execute_result"
    }
   ],
   "source": [
    "add(1.0, 2.0)"
   ]
  },
  {
   "cell_type": "markdown",
   "metadata": {
    "slideshow": {
     "slide_type": "subslide"
    }
   },
   "source": [
    "## Where are the types?"
   ]
  },
  {
   "cell_type": "code",
   "execution_count": 5,
   "metadata": {},
   "outputs": [
    {
     "data": {
      "text/plain": [
       "Int64"
      ]
     },
     "execution_count": 5,
     "metadata": {},
     "output_type": "execute_result"
    }
   ],
   "source": [
    "typeof(1)"
   ]
  },
  {
   "cell_type": "code",
   "execution_count": 6,
   "metadata": {
    "slideshow": {
     "slide_type": "fragment"
    }
   },
   "outputs": [
    {
     "data": {
      "text/plain": [
       "Int64"
      ]
     },
     "execution_count": 6,
     "metadata": {},
     "output_type": "execute_result"
    }
   ],
   "source": [
    "typeof(add(1,2))"
   ]
  },
  {
   "cell_type": "code",
   "execution_count": 7,
   "metadata": {
    "slideshow": {
     "slide_type": "fragment"
    }
   },
   "outputs": [
    {
     "data": {
      "text/plain": [
       "Float64"
      ]
     },
     "execution_count": 7,
     "metadata": {},
     "output_type": "execute_result"
    }
   ],
   "source": [
    "typeof(add(1.0,2))"
   ]
  },
  {
   "cell_type": "markdown",
   "metadata": {
    "slideshow": {
     "slide_type": "subslide"
    }
   },
   "source": [
    "## A look at the assembly\n",
    "Each combination of types for the arguments compiles a different version of the code."
   ]
  },
  {
   "cell_type": "code",
   "execution_count": 8,
   "metadata": {
    "slideshow": {
     "slide_type": "subslide"
    }
   },
   "outputs": [
    {
     "name": "stdout",
     "output_type": "stream",
     "text": [
      "\t.section\t__TEXT,__text,regular,pure_instructions\n",
      "Filename: In[2]\n",
      "\tpushq\t%rbp\n",
      "\tmovq\t%rsp, %rbp\n",
      "Source line: 1\n",
      "\tleaq\t(%rdi,%rsi), %rax\n",
      "\tpopq\t%rbp\n",
      "\tretq\n",
      "\tnopw\t(%rax,%rax)\n"
     ]
    }
   ],
   "source": [
    "@code_native add(1,2)"
   ]
  },
  {
   "cell_type": "code",
   "execution_count": 9,
   "metadata": {
    "slideshow": {
     "slide_type": "fragment"
    }
   },
   "outputs": [
    {
     "name": "stdout",
     "output_type": "stream",
     "text": [
      "\t.section\t__TEXT,__text,regular,pure_instructions\n",
      "Filename: In[2]\n",
      "\tpushq\t%rbp\n",
      "\tmovq\t%rsp, %rbp\n",
      "Source line: 1\n",
      "\taddsd\t%xmm1, %xmm0\n",
      "\tpopq\t%rbp\n",
      "\tretq\n",
      "\tnopw\t(%rax,%rax)\n"
     ]
    }
   ],
   "source": [
    "@code_native add(1.0,2.0)"
   ]
  },
  {
   "cell_type": "markdown",
   "metadata": {
    "slideshow": {
     "slide_type": "subslide"
    }
   },
   "source": [
    "## Equivalence with C++\n",
    "The Julia function `add(a,b) = a+b` is equivalent to the following C++ function:\n",
    "\n",
    "```c++\n",
    "template<typename A, typename B>\n",
    "auto add(A a, B b) -> decltype(a + b)\n",
    "{\n",
    "    return a + b;\n",
    "}\n",
    "```\n",
    "\n",
    "* Template function valid for any type `A` and `B`\n",
    "* C++ compiles a new version for every combination of types\n",
    "* Automatic (static) computation of the return type (`decltype` annotation)"
   ]
  },
  {
   "cell_type": "markdown",
   "metadata": {
    "slideshow": {
     "slide_type": "subslide"
    }
   },
   "source": [
    "## Types"
   ]
  },
  {
   "cell_type": "code",
   "execution_count": 10,
   "metadata": {},
   "outputs": [],
   "source": [
    "# Define a type\n",
    "struct MyNumber\n",
    "    n::Int\n",
    "end"
   ]
  },
  {
   "cell_type": "code",
   "execution_count": 11,
   "metadata": {},
   "outputs": [
    {
     "data": {
      "text/plain": [
       "MyNumber(2)"
      ]
     },
     "execution_count": 11,
     "metadata": {},
     "output_type": "execute_result"
    }
   ],
   "source": [
    "# Create an instance\n",
    "const mynum = MyNumber(2)"
   ]
  },
  {
   "cell_type": "markdown",
   "metadata": {
    "slideshow": {
     "slide_type": "subslide"
    }
   },
   "source": [
    "## What about our `add` function?"
   ]
  },
  {
   "cell_type": "code",
   "execution_count": 12,
   "metadata": {},
   "outputs": [
    {
     "ename": "LoadError",
     "evalue": "\u001b[91mMethodError: no method matching +(::MyNumber, ::Int64)\u001b[0m\nClosest candidates are:\n  +(::Any, ::Any, \u001b[91m::Any\u001b[39m, \u001b[91m::Any...\u001b[39m) at operators.jl:424\n  +(\u001b[91m::Complex{Bool}\u001b[39m, ::Real) at complex.jl:247\n  +(\u001b[91m::Char\u001b[39m, ::Integer) at char.jl:40\n  ...\u001b[39m",
     "output_type": "error",
     "traceback": [
      "\u001b[91mMethodError: no method matching +(::MyNumber, ::Int64)\u001b[0m\nClosest candidates are:\n  +(::Any, ::Any, \u001b[91m::Any\u001b[39m, \u001b[91m::Any...\u001b[39m) at operators.jl:424\n  +(\u001b[91m::Complex{Bool}\u001b[39m, ::Real) at complex.jl:247\n  +(\u001b[91m::Char\u001b[39m, ::Integer) at char.jl:40\n  ...\u001b[39m",
      "",
      "Stacktrace:",
      " [1] \u001b[1madd\u001b[22m\u001b[22m\u001b[1m(\u001b[22m\u001b[22m::MyNumber, ::Int64\u001b[1m)\u001b[22m\u001b[22m at \u001b[1m./In[2]:1\u001b[22m\u001b[22m",
      " [2] \u001b[1minclude_string\u001b[22m\u001b[22m\u001b[1m(\u001b[22m\u001b[22m::String, ::String\u001b[1m)\u001b[22m\u001b[22m at \u001b[1m./loading.jl:522\u001b[22m\u001b[22m"
     ]
    }
   ],
   "source": [
    "add(mynum, 2)"
   ]
  },
  {
   "cell_type": "code",
   "execution_count": 13,
   "metadata": {},
   "outputs": [
    {
     "data": {
      "text/plain": [
       "add (generic function with 2 methods)"
      ]
     },
     "execution_count": 13,
     "metadata": {},
     "output_type": "execute_result"
    }
   ],
   "source": [
    "add(a::MyNumber, b) = MyNumber(a.n + b)"
   ]
  },
  {
   "cell_type": "code",
   "execution_count": 14,
   "metadata": {
    "slideshow": {
     "slide_type": "subslide"
    }
   },
   "outputs": [
    {
     "data": {
      "text/html": [
       "2 methods for generic function <b>add</b>:<ul><li> add(a::<b>MyNumber</b>, b) at In[13]:1</li> <li> add(a, b) at In[2]:1</li> </ul>"
      ],
      "text/plain": [
       "# 2 methods for generic function \"add\":\n",
       "add(a::MyNumber, b) in Main at In[13]:1\n",
       "add(a, b) in Main at In[2]:1"
      ]
     },
     "execution_count": 14,
     "metadata": {},
     "output_type": "execute_result"
    }
   ],
   "source": [
    "methods(add)"
   ]
  },
  {
   "cell_type": "code",
   "execution_count": 15,
   "metadata": {},
   "outputs": [
    {
     "data": {
      "text/plain": [
       "MyNumber(4)"
      ]
     },
     "execution_count": 15,
     "metadata": {},
     "output_type": "execute_result"
    }
   ],
   "source": [
    "add(mynum, 2)"
   ]
  },
  {
   "cell_type": "markdown",
   "metadata": {
    "slideshow": {
     "slide_type": "subslide"
    }
   },
   "source": [
    "## Inheritance\n",
    "Julia supports single inheritance from abstract base types:"
   ]
  },
  {
   "cell_type": "code",
   "execution_count": 16,
   "metadata": {
    "slideshow": {
     "slide_type": "fragment"
    }
   },
   "outputs": [
    {
     "data": {
      "text/plain": [
       "MyBase"
      ]
     },
     "execution_count": 16,
     "metadata": {},
     "output_type": "execute_result"
    }
   ],
   "source": [
    "abstract type MyBase end\n",
    "struct MyConcrete <: MyBase\n",
    "    a::Int\n",
    "end\n",
    "# This kind of introspection is built-in:\n",
    "supertype(MyConcrete)"
   ]
  },
  {
   "cell_type": "code",
   "execution_count": 17,
   "metadata": {
    "slideshow": {
     "slide_type": "fragment"
    }
   },
   "outputs": [
    {
     "data": {
      "text/plain": [
       "3"
      ]
     },
     "execution_count": 17,
     "metadata": {},
     "output_type": "execute_result"
    }
   ],
   "source": [
    "geta(x::MyBase) = x.a\n",
    "some_a = MyConcrete(3)\n",
    "geta(some_a)"
   ]
  },
  {
   "cell_type": "markdown",
   "metadata": {
    "slideshow": {
     "slide_type": "subslide"
    }
   },
   "source": [
    "## Constness"
   ]
  },
  {
   "cell_type": "code",
   "execution_count": 18,
   "metadata": {
    "slideshow": {
     "slide_type": "-"
    }
   },
   "outputs": [
    {
     "ename": "LoadError",
     "evalue": "\u001b[91mtype MyConcrete is immutable\u001b[39m",
     "output_type": "error",
     "traceback": [
      "\u001b[91mtype MyConcrete is immutable\u001b[39m",
      "",
      "Stacktrace:",
      " [1] \u001b[1minclude_string\u001b[22m\u001b[22m\u001b[1m(\u001b[22m\u001b[22m::String, ::String\u001b[1m)\u001b[22m\u001b[22m at \u001b[1m./loading.jl:522\u001b[22m\u001b[22m"
     ]
    }
   ],
   "source": [
    "some_a.a = 2"
   ]
  },
  {
   "cell_type": "code",
   "execution_count": 19,
   "metadata": {
    "slideshow": {
     "slide_type": "fragment"
    }
   },
   "outputs": [
    {
     "name": "stdout",
     "output_type": "stream",
     "text": [
      "geta(mutable_a) = 4\n"
     ]
    },
    {
     "data": {
      "text/plain": [
       "42"
      ]
     },
     "execution_count": 19,
     "metadata": {},
     "output_type": "execute_result"
    }
   ],
   "source": [
    "# Make a mutable subtype:\n",
    "mutable struct MutableConcrete <: MyBase\n",
    "    a::Int\n",
    "end\n",
    "\n",
    "mutable_a = MutableConcrete(4)\n",
    "# Still works:\n",
    "@show geta(mutable_a)\n",
    "# We can change it now:\n",
    "mutable_a.a = 42\n",
    "geta(mutable_a)"
   ]
  },
  {
   "cell_type": "markdown",
   "metadata": {
    "slideshow": {
     "slide_type": "subslide"
    }
   },
   "source": [
    "## Generic types"
   ]
  },
  {
   "cell_type": "code",
   "execution_count": 20,
   "metadata": {},
   "outputs": [
    {
     "data": {
      "text/plain": [
       "Point{Int64,3}((1, 2, 3))"
      ]
     },
     "execution_count": 20,
     "metadata": {},
     "output_type": "execute_result"
    }
   ],
   "source": [
    "struct Point{T,N}\n",
    "    coords::NTuple{N,T}\n",
    "end\n",
    "p1 = Point((1,2,3))"
   ]
  },
  {
   "cell_type": "code",
   "execution_count": 21,
   "metadata": {
    "slideshow": {
     "slide_type": "fragment"
    }
   },
   "outputs": [
    {
     "data": {
      "text/plain": [
       "Point{Float64,2}((2.0, 3.0))"
      ]
     },
     "execution_count": 21,
     "metadata": {},
     "output_type": "execute_result"
    }
   ],
   "source": [
    "p2 = Point((2.0, 3.0))"
   ]
  },
  {
   "cell_type": "code",
   "execution_count": 22,
   "metadata": {
    "slideshow": {
     "slide_type": "subslide"
    }
   },
   "outputs": [
    {
     "ename": "LoadError",
     "evalue": "\u001b[91mMethodError: no method matching +(::TypeVar, ::TypeVar)\u001b[0m\nClosest candidates are:\n  +(::Any, ::Any, \u001b[91m::Any\u001b[39m, \u001b[91m::Any...\u001b[39m) at operators.jl:424\u001b[39m",
     "output_type": "error",
     "traceback": [
      "\u001b[91mMethodError: no method matching +(::TypeVar, ::TypeVar)\u001b[0m\nClosest candidates are:\n  +(::Any, ::Any, \u001b[91m::Any\u001b[39m, \u001b[91m::Any...\u001b[39m) at operators.jl:424\u001b[39m",
      "",
      "Stacktrace:",
      " [1] \u001b[1minclude_string\u001b[22m\u001b[22m\u001b[1m(\u001b[22m\u001b[22m::String, ::String\u001b[1m)\u001b[22m\u001b[22m at \u001b[1m./loading.jl:522\u001b[22m\u001b[22m"
     ]
    }
   ],
   "source": [
    "# While this is allowed in C++, it's not in Julia:\n",
    "struct Combined{T,N1,N2}\n",
    "    coords::NTuple{N1+N2,T}\n",
    "end"
   ]
  },
  {
   "cell_type": "markdown",
   "metadata": {
    "slideshow": {
     "slide_type": "subslide"
    }
   },
   "source": [
    "## Multiple dispatch\n",
    "* In Julia, not writing types means any type can be used\n",
    "* It still tracks the types and computes the correct return type\n",
    "* Each combination of argument types yields a newly compiled version of the method\n",
    "* Type computation can happen dynamically (at runtime) or statically (during JIT compilation)\n",
    "* The static type computation is equivalent to the C++ version\n",
    "* Deciding which function to call is **multiple dispatch** (static or dynamic)"
   ]
  },
  {
   "cell_type": "markdown",
   "metadata": {
    "slideshow": {
     "slide_type": "subslide"
    }
   },
   "source": [
    "## Dynamic dispatch\n",
    "\n",
    "Consider a heterogeneous array:\n"
   ]
  },
  {
   "cell_type": "code",
   "execution_count": 23,
   "metadata": {},
   "outputs": [
    {
     "data": {
      "text/plain": [
       "3-element Array{Any,1}:\n",
       " 1      \n",
       " 2.0    \n",
       "  [3, 4]"
      ]
     },
     "execution_count": 23,
     "metadata": {},
     "output_type": "execute_result"
    }
   ],
   "source": [
    "A1 = [1, 2.0, [3,4]]\n"
   ]
  },
  {
   "cell_type": "code",
   "execution_count": 24,
   "metadata": {
    "slideshow": {
     "slide_type": "fragment"
    }
   },
   "outputs": [
    {
     "data": {
      "text/plain": [
       "3-element Array{Real,1}:\n",
       " 1  \n",
       " 2.0\n",
       " 5.0"
      ]
     },
     "execution_count": 24,
     "metadata": {},
     "output_type": "execute_result"
    }
   ],
   "source": [
    "# Take the norm of every element\n",
    "norm.(A1)"
   ]
  },
  {
   "cell_type": "markdown",
   "metadata": {
    "slideshow": {
     "slide_type": "subslide"
    }
   },
   "source": [
    "## Dynamic dispatch\n",
    "* Because every element has a different type, the `norm` function is chosen at *runtime*, depending on the actual content of the array"
   ]
  },
  {
   "cell_type": "markdown",
   "metadata": {
    "slideshow": {
     "slide_type": "fragment"
    }
   },
   "source": [
    "* In C++, this can realized using a common base class and a virtual `norm` function."
   ]
  },
  {
   "cell_type": "markdown",
   "metadata": {
    "slideshow": {
     "slide_type": "fragment"
    }
   },
   "source": [
    "Let's add a second array:"
   ]
  },
  {
   "cell_type": "code",
   "execution_count": 25,
   "metadata": {},
   "outputs": [
    {
     "data": {
      "text/plain": [
       "3-element Array{Any,1}:\n",
       "   [5.0, 6.0]\n",
       " 0+7im       \n",
       "  8          "
      ]
     },
     "execution_count": 25,
     "metadata": {},
     "output_type": "execute_result"
    }
   ],
   "source": [
    "A2 = [[5, 6.0], 7im, 8]"
   ]
  },
  {
   "cell_type": "markdown",
   "metadata": {
    "slideshow": {
     "slide_type": "subslide"
    }
   },
   "source": [
    "Now adding this to the previous array:"
   ]
  },
  {
   "cell_type": "code",
   "execution_count": 26,
   "metadata": {},
   "outputs": [
    {
     "data": {
      "text/plain": [
       "3-element Array{Any,1}:\n",
       "     [6.0, 7.0]\n",
       " 2.0+7.0im     \n",
       "     [11, 12]  "
      ]
     },
     "execution_count": 26,
     "metadata": {},
     "output_type": "execute_result"
    }
   ],
   "source": [
    "A1 .+ A2"
   ]
  },
  {
   "cell_type": "markdown",
   "metadata": {
    "slideshow": {
     "slide_type": "fragment"
    }
   },
   "source": [
    "This performs a dynamic dispatch based on *both* arguments to `+`"
   ]
  },
  {
   "cell_type": "markdown",
   "metadata": {
    "slideshow": {
     "slide_type": "subslide"
    }
   },
   "source": [
    "## Julia for C++ programmers: summary\n",
    "\n",
    "|   |Julia|C++|\n",
    "|---|---|---|\n",
    "|Types|☑️|☑️|\n",
    "|Inheritance|Single, abstract|Multiple, concrete|\n",
    "|Constness|Type level|Variable level|\n",
    "|Methods part of class |❌|☑️|\n",
    "|Generic types|☑️|☑️|\n",
    "|Computed field types|not yet|☑️|\n",
    "|Introspection|☑️|❌|\n",
    "|Multiple dispatch|dynamic|static|\n",
    "|Single dispatch|N/A|dynamic|\n",
    "|Dot operator overload|☑️|❌|"
   ]
  },
  {
   "cell_type": "markdown",
   "metadata": {
    "slideshow": {
     "slide_type": "slide"
    }
   },
   "source": [
    "# CxxWrap\n",
    "* Github page: https://github.com/JuliaInterop/CxxWrap.jl\n",
    "* Makes use of the native C calling ability of Julia\n",
    "* Most code for wrapping C++ is written in C++, compiled with your favourite compiler\n",
    "* Inspired by Boost.Python and pybind11"
   ]
  },
  {
   "cell_type": "markdown",
   "metadata": {
    "slideshow": {
     "slide_type": "subslide"
    }
   },
   "source": [
    "## Calling C functions from Julia\n",
    "Using `ccall`:"
   ]
  },
  {
   "cell_type": "code",
   "execution_count": 27,
   "metadata": {},
   "outputs": [
    {
     "data": {
      "text/plain": [
       "1.0"
      ]
     },
     "execution_count": 27,
     "metadata": {},
     "output_type": "execute_result"
    }
   ],
   "source": [
    "ccall(:fabs, Float64, (Float64,),-1)"
   ]
  },
  {
   "cell_type": "markdown",
   "metadata": {
    "slideshow": {
     "slide_type": "subslide"
    }
   },
   "source": [
    "The overhead is low:"
   ]
  },
  {
   "cell_type": "code",
   "execution_count": 28,
   "metadata": {},
   "outputs": [],
   "source": [
    "using BenchmarkTools"
   ]
  },
  {
   "cell_type": "code",
   "execution_count": 29,
   "metadata": {},
   "outputs": [
    {
     "name": "stdout",
     "output_type": "stream",
     "text": [
      "  3.969 ns (0 allocations: 0 bytes)\n"
     ]
    },
    {
     "data": {
      "text/plain": [
       "1.0"
      ]
     },
     "execution_count": 29,
     "metadata": {},
     "output_type": "execute_result"
    }
   ],
   "source": [
    "@btime ccall(:fabs, Float64, (Float64,),-1.0)"
   ]
  },
  {
   "cell_type": "code",
   "execution_count": 30,
   "metadata": {},
   "outputs": [
    {
     "name": "stdout",
     "output_type": "stream",
     "text": [
      "  2.538 ns (0 allocations: 0 bytes)\n"
     ]
    },
    {
     "data": {
      "text/plain": [
       "1.0"
      ]
     },
     "execution_count": 30,
     "metadata": {},
     "output_type": "execute_result"
    }
   ],
   "source": [
    "@btime abs(-1.0)"
   ]
  },
  {
   "cell_type": "markdown",
   "metadata": {
    "slideshow": {
     "slide_type": "subslide"
    }
   },
   "source": [
    "## CxxWrap approach for functions\n",
    "* First argument to `ccall` can be a function pointer\n",
    "* For C-like functions: pass pointer directly\n",
    "* Otherwise: pass a function pointer that has the actual arguments _and_ a pointer to an `std::function` closure"
   ]
  },
  {
   "cell_type": "markdown",
   "metadata": {
    "slideshow": {
     "slide_type": "subslide"
    }
   },
   "source": [
    "## Example\n",
    "Code from [`tutorials/cxxwrap/hello_world`](tutorials/cxxwrap/hello_world):\n",
    "```c++\n",
    "#include <iostream>\n",
    "#include <jlcxx/jlcxx.hpp>\n",
    "\n",
    "void hello() { std::cout << \"hello world!\" << std::endl; }\n",
    "\n",
    "JULIA_CPP_MODULE_BEGIN(registry)\n",
    "  jlcxx::Module& mod = registry.create_module(\"Hello\");\n",
    "\n",
    "  mod.method(\"hello\", hello);\n",
    "  mod.method(\"hello_lambda\", [] () { std::cout << \"hello lambda!\" << std::endl; });\n",
    "\n",
    "JULIA_CPP_MODULE_END\n",
    "```"
   ]
  },
  {
   "cell_type": "markdown",
   "metadata": {
    "slideshow": {
     "slide_type": "subslide"
    }
   },
   "source": [
    "### CMake:\n",
    "```cmake\n",
    "project(Hello)\n",
    "cmake_minimum_required(VERSION 2.8.12)\n",
    "\n",
    "find_package(JlCxx REQUIRED)\n",
    "\n",
    "set(CMAKE_INSTALL_RPATH \"${JlCxx_DIR}/../\")\n",
    "set(CMAKE_INSTALL_RPATH_USE_LINK_PATH TRUE)\n",
    "set(CMAKE_MACOSX_RPATH 1)\n",
    "set(CMAKE_CXX_FLAGS \"${CMAKE_CXX_FLAGS} -std=c++11\")\n",
    "\n",
    "add_library(hello SHARED hello.cpp)\n",
    "target_link_libraries(hello JlCxx::cxxwrap_julia)\n",
    "```"
   ]
  },
  {
   "cell_type": "markdown",
   "metadata": {
    "slideshow": {
     "slide_type": "subslide"
    }
   },
   "source": [
    "## Running in Julia"
   ]
  },
  {
   "cell_type": "code",
   "execution_count": 31,
   "metadata": {
    "slideshow": {
     "slide_type": "fragment"
    }
   },
   "outputs": [],
   "source": [
    "# Customize this to your actual build directory\n",
    "buildroot = joinpath(ENV[\"HOME\"], \"src/build/cppnow2018\");"
   ]
  },
  {
   "cell_type": "code",
   "execution_count": 32,
   "metadata": {
    "slideshow": {
     "slide_type": "fragment"
    }
   },
   "outputs": [],
   "source": [
    "using CxxWrap"
   ]
  },
  {
   "cell_type": "code",
   "execution_count": 33,
   "metadata": {
    "slideshow": {
     "slide_type": "fragment"
    }
   },
   "outputs": [],
   "source": [
    "wrap_modules(joinpath(buildroot, \"hello/libhello\"))"
   ]
  },
  {
   "cell_type": "code",
   "execution_count": 34,
   "metadata": {
    "slideshow": {
     "slide_type": "fragment"
    }
   },
   "outputs": [
    {
     "name": "stdout",
     "output_type": "stream",
     "text": [
      "hello world!\n"
     ]
    }
   ],
   "source": [
    "Hello.hello()"
   ]
  },
  {
   "cell_type": "code",
   "execution_count": 35,
   "metadata": {
    "slideshow": {
     "slide_type": "fragment"
    }
   },
   "outputs": [
    {
     "name": "stdout",
     "output_type": "stream",
     "text": [
      "hello lambda!\n"
     ]
    }
   ],
   "source": [
    "Hello.hello_lambda()"
   ]
  },
  {
   "cell_type": "markdown",
   "metadata": {
    "slideshow": {
     "slide_type": "subslide"
    }
   },
   "source": [
    "## Behind the scenes\n",
    "Without the macro:\n",
    "```c++\n",
    "extern \"C\" void register_julia_modules(void* void_reg)\n",
    "{\n",
    "  jlcxx::ModuleRegistry& registry = *reinterpret_cast<jlcxx::ModuleRegistry*>(void_reg);\n",
    "  try\n",
    "  {\n",
    "    jlcxx::Module& mod = registry.create_module(\"Hello\");\n",
    "    mod.method(\"hello\", hello);\n",
    "  }\n",
    "  catch (const std::runtime_error& e) { jl_error(e.what()); }\n",
    "}\n",
    "```\n",
    "* This can be called from Julia using `ccall`\n",
    "* Other C entry points in `libcxxwrap_julia`\n"
   ]
  },
  {
   "cell_type": "markdown",
   "metadata": {
    "slideshow": {
     "slide_type": "subslide"
    }
   },
   "source": [
    "### Building a method\n",
    "The method function is declared as:\n",
    "```c++\n",
    "template<typename R, typename... Args>\n",
    "FunctionWrapperBase& method(const std::string& name,  std::function<R(Args...)> f);\n",
    "```\n",
    "\n",
    "Here, the `FunctionWrapperBase` object stores all the information needed to build a method:\n",
    "* The name\n",
    "* Return type\n",
    "* Argument types\n",
    "* Pointers to regular function and `std::function`"
   ]
  },
  {
   "cell_type": "markdown",
   "metadata": {
    "slideshow": {
     "slide_type": "subslide"
    }
   },
   "source": [
    "In Julia, it looks like this:"
   ]
  },
  {
   "cell_type": "code",
   "execution_count": 36,
   "metadata": {},
   "outputs": [],
   "source": [
    "struct CppFunctionInfo\n",
    "  name::Any\n",
    "  argument_types::Array{Type,1}\n",
    "  reference_argument_types::Array{Type,1}\n",
    "  return_type::Type\n",
    "  function_pointer::Ptr{Void}\n",
    "  thunk_pointer::Ptr{Void}\n",
    "end"
   ]
  },
  {
   "cell_type": "markdown",
   "metadata": {
    "slideshow": {
     "slide_type": "subslide"
    }
   },
   "source": [
    "### The function pointer\n",
    "The function pointer must be directly callable by Julia. It is a pointer to `apply`:\n",
    "```c++\n",
    "template<typename R, typename... Args>\n",
    "struct CallFunctor\n",
    "{\n",
    "  using return_type = decltype(ReturnTypeAdapter<R, Args...>()(...);\n",
    "\n",
    "  static return_type apply(const void* functor, mapped_julia_type<Args>... args)\n",
    "  {\n",
    "    try\n",
    "    {\n",
    "      return ReturnTypeAdapter<R, Args...>()(functor, args...);\n",
    "    }\n",
    "    catch(const std::exception& err)\n",
    "    {\n",
    "      jl_error(err.what());\n",
    "    }\n",
    "    return return_type();\n",
    "  }\n",
    "};\n",
    "```"
   ]
  },
  {
   "cell_type": "markdown",
   "metadata": {
    "slideshow": {
     "slide_type": "subslide"
    }
   },
   "source": [
    "### Function definition wrap-up\n",
    "Steps to define the Julia functions:\n",
    "1. Execute the `register_julia_modules` entry point\n",
    "2. Julia requests all `CppFunctionInfo` by calling the appropriate C function\n",
    "3. Methods themselves are defined in Julia, wrapping `ccall` to the appropriate pointers\n",
    "\n",
    "**Difference with Python:** No C interface to define methods"
   ]
  },
  {
   "cell_type": "markdown",
   "metadata": {
    "slideshow": {
     "slide_type": "subslide"
    }
   },
   "source": [
    "### So how efficient is this?\n",
    "\n",
    "Test code:\n",
    "```julia\n",
    "function half_loop(n::Array{Float64,1}, out_arr::Array{Float64,1})\n",
    "  test_length = length(n)\n",
    "  for i in 1:test_length\n",
    "        out_arr[i] = half_x(n[i])\n",
    "  end\n",
    "end\n",
    "```\n",
    "```c++\n",
    "mod.method(\"half_loop_cpp\",\n",
    "  [](jlcxx::ArrayRef<double> in, jlcxx::ArrayRef<double> out)\n",
    "  {\n",
    "    std::transform(in.begin(), in.end(), out.begin(), [](const double d) { return 0.5*d; });\n",
    "  });\n",
    "```\n"
   ]
  },
  {
   "cell_type": "markdown",
   "metadata": {
    "slideshow": {
     "slide_type": "subslide"
    }
   },
   "source": [
    "#### Results\n",
    "Loop over 50 M elements:\n",
    "\n",
    "||Time (s)|\n",
    "|--|--|\n",
    "|Julia|0.079545|\n",
    "|C++|0.081665|\n",
    "|ccall|0.145599|\n",
    "|cxxwrap, c function|0.143931|\n",
    "|cxxwrap, lambda|0.277089|\n",
    "|cfunction from C++|0.521564|\n"
   ]
  },
  {
   "cell_type": "markdown",
   "metadata": {
    "slideshow": {
     "slide_type": "subslide"
    }
   },
   "source": [
    "## Exposing types\n",
    "```c++\n",
    "class A\n",
    "{\n",
    "public:\n",
    "  A(int value) : m_value(value) {}\n",
    "\n",
    "  virtual int get_a() { return m_value; }\n",
    "private:\n",
    "  int m_value;\n",
    "};\n",
    "\n",
    "JULIA_CPP_MODULE_BEGIN(registry)\n",
    "  jlcxx::Module& mod = registry.create_module(\"Types\");\n",
    "\n",
    "  mod.add_type<A>(\"A\")\n",
    "    .constructor<int>()\n",
    "    .method(\"get_a\",&A::get_a);\n",
    "\n",
    "JULIA_CPP_MODULE_END\n",
    "```"
   ]
  },
  {
   "cell_type": "code",
   "execution_count": 37,
   "metadata": {
    "slideshow": {
     "slide_type": "subslide"
    }
   },
   "outputs": [],
   "source": [
    "# Load the module\n",
    "wrap_modules(joinpath(buildroot, \"types/libtypes\"))"
   ]
  },
  {
   "cell_type": "code",
   "execution_count": 38,
   "metadata": {
    "slideshow": {
     "slide_type": "fragment"
    }
   },
   "outputs": [
    {
     "data": {
      "text/plain": [
       "AAllocated(Ptr{Void} @0x00007f90a1795900)"
      ]
     },
     "execution_count": 38,
     "metadata": {},
     "output_type": "execute_result"
    }
   ],
   "source": [
    "a = Types.A(42)"
   ]
  },
  {
   "cell_type": "code",
   "execution_count": 39,
   "metadata": {
    "slideshow": {
     "slide_type": "fragment"
    }
   },
   "outputs": [
    {
     "data": {
      "text/plain": [
       "42"
      ]
     },
     "execution_count": 39,
     "metadata": {},
     "output_type": "execute_result"
    }
   ],
   "source": [
    "Types.get_a(a)"
   ]
  },
  {
   "cell_type": "markdown",
   "metadata": {
    "slideshow": {
     "slide_type": "subslide"
    }
   },
   "source": [
    "### Memory management\n",
    "3 types are created for `A`:\n",
    "```julia\n",
    "abstract type A <: CxxWrap.CppAny end\n",
    "\n",
    "struct ARef <: A\n",
    "  cpp_object::Ptr{Void}\n",
    "end\n",
    "\n",
    "mutable struct AAllocated <: A\n",
    "  cpp_object::Ptr{Void}\n",
    "end\n",
    "```\n",
    "* The `Allocated` type runs the destructor upon garbage collect (typically returned by constructors).\n",
    "* `A` itself is abstract..."
   ]
  },
  {
   "cell_type": "markdown",
   "metadata": {
    "slideshow": {
     "slide_type": "subslide"
    }
   },
   "source": [
    "### Inheritance\n",
    "\n",
    "```c++\n",
    "class TwiceA : public A\n",
    "{\n",
    "public:\n",
    "  TwiceA(int value) : A(value) {}\n",
    "  virtual int get_a() { return 2*A::get_a(); }\n",
    "};\n",
    "\n",
    "mod.add_type<TwiceA>(\"TwiceA\", jlcxx::julia_type<A>())\n",
    "    .constructor<int>();\n",
    "```"
   ]
  },
  {
   "cell_type": "code",
   "execution_count": 40,
   "metadata": {
    "slideshow": {
     "slide_type": "subslide"
    }
   },
   "outputs": [
    {
     "data": {
      "text/plain": [
       "TwiceAAllocated(Ptr{Void} @0x00007f90a176a450)"
      ]
     },
     "execution_count": 40,
     "metadata": {},
     "output_type": "execute_result"
    }
   ],
   "source": [
    "a2 = Types.TwiceA(42)"
   ]
  },
  {
   "cell_type": "code",
   "execution_count": 41,
   "metadata": {
    "slideshow": {
     "slide_type": "fragment"
    }
   },
   "outputs": [
    {
     "data": {
      "text/plain": [
       "84"
      ]
     },
     "execution_count": 41,
     "metadata": {},
     "output_type": "execute_result"
    }
   ],
   "source": [
    "Types.get_a(a2)"
   ]
  },
  {
   "cell_type": "code",
   "execution_count": 42,
   "metadata": {
    "slideshow": {
     "slide_type": "fragment"
    }
   },
   "outputs": [
    {
     "data": {
      "text/html": [
       "1 method for generic function <b>get_a</b>:<ul><li> get_a(arg1::<b>Union{CxxWrap.SmartPointer{T2}, T2} where T2<:A</b>)</li> </ul>"
      ],
      "text/plain": [
       "# 1 method for generic function \"get_a\":\n",
       "get_a(arg1::Union{CxxWrap.SmartPointer{T2}, T2} where T2<:A) in Types"
      ]
     },
     "execution_count": 42,
     "metadata": {},
     "output_type": "execute_result"
    }
   ],
   "source": [
    "# Only one Julia method exists:\n",
    "methods(Types.get_a)"
   ]
  },
  {
   "cell_type": "code",
   "execution_count": 43,
   "metadata": {
    "slideshow": {
     "slide_type": "fragment"
    }
   },
   "outputs": [
    {
     "data": {
      "text/plain": [
       "A"
      ]
     },
     "execution_count": 43,
     "metadata": {},
     "output_type": "execute_result"
    }
   ],
   "source": [
    "supertype(Types.TwiceA)"
   ]
  },
  {
   "cell_type": "markdown",
   "metadata": {
    "slideshow": {
     "slide_type": "subslide"
    }
   },
   "source": [
    "### Smart pointers\n",
    "Some standard library smart pointers are automatically supported:\n",
    "```c++\n",
    "mod.method(\"smartA\", [] (int x) { return std::make_shared<A>(x); } );\n",
    "```"
   ]
  },
  {
   "cell_type": "code",
   "execution_count": 44,
   "metadata": {
    "slideshow": {
     "slide_type": "fragment"
    }
   },
   "outputs": [
    {
     "data": {
      "text/plain": [
       "CxxWrap.SmartPointerWithDeref{A,0x0000000121cc0870,Ptr{Void} @0x0000000121caf700,Ptr{Void} @0x0000000121caf730,Ptr{Void} @0x0000000121caf750}(Ptr{Void} @0x00007f90a17b45b0)"
      ]
     },
     "execution_count": 44,
     "metadata": {},
     "output_type": "execute_result"
    }
   ],
   "source": [
    "smart_a = Types.smartA(1)"
   ]
  },
  {
   "cell_type": "code",
   "execution_count": 45,
   "metadata": {
    "slideshow": {
     "slide_type": "fragment"
    }
   },
   "outputs": [
    {
     "data": {
      "text/plain": [
       "1"
      ]
     },
     "execution_count": 45,
     "metadata": {},
     "output_type": "execute_result"
    }
   ],
   "source": [
    "Types.get_a(smart_a)"
   ]
  },
  {
   "cell_type": "markdown",
   "metadata": {
    "slideshow": {
     "slide_type": "subslide"
    }
   },
   "source": [
    "### Generic types\n",
    "The class to wrap:\n",
    "```c++\n",
    "template<typename T1, typename T2>\n",
    "class SimplePair\n",
    "{\n",
    "public:\n",
    "  typedef T1 x_type;\n",
    "  typedef T2 y_type;\n",
    "\n",
    "  SimplePair(const T1 x, const T2 y) : m_x(x), m_y(y) {}\n",
    "  T1 get_x() const { return m_x; }\n",
    "  T2 get_y() const { return m_y; }\n",
    "private:\n",
    "  T1 m_x;\n",
    "  T2 m_y;\n",
    "};\n",
    "```"
   ]
  },
  {
   "cell_type": "markdown",
   "metadata": {
    "slideshow": {
     "slide_type": "subslide"
    }
   },
   "source": [
    "Wrapping code for `bool`:\n",
    "```c++\n",
    "auto pair_type = mod.add_type<jlcxx::Parametric<jlcxx::TypeVar<1>, jlcxx::TypeVar<2>>>(\"SimplePair\");\n",
    "  // Apply just for bool\n",
    "  pair_type.apply<SimplePair<bool,bool>>([](auto wrapped)\n",
    "  {\n",
    "    typedef typename decltype(wrapped)::type WrappedT;\n",
    "    typedef typename WrappedT::x_type x_type;\n",
    "    typedef typename WrappedT::y_type y_type;\n",
    "    wrapped.template constructor<x_type,y_type>();\n",
    "    wrapped.method(\"get_x\", &WrappedT::get_x);\n",
    "    wrapped.method(\"get_y\", &WrappedT::get_y);\n",
    "  });\n",
    "```"
   ]
  },
  {
   "cell_type": "markdown",
   "metadata": {
    "slideshow": {
     "slide_type": "subslide"
    }
   },
   "source": [
    "Automatic combination of types:\n",
    "```c++\n",
    "pair_type.apply_combination<SimplePair,\n",
    "                            jlcxx::ParameterList<int, float, double>,\n",
    "                            jlcxx::ParameterList<int, float, double>>\n",
    "  ([](auto wrapped)\n",
    "  {\n",
    "    typedef typename decltype(wrapped)::type WrappedT;\n",
    "    typedef typename WrappedT::x_type x_type;\n",
    "    typedef typename WrappedT::y_type y_type;\n",
    "    wrapped.template constructor<x_type,y_type>();\n",
    "    wrapped.method(\"get_x\", &WrappedT::get_x);\n",
    "    wrapped.method(\"get_y\", &WrappedT::get_y);\n",
    "  });\n",
    "```"
   ]
  },
  {
   "cell_type": "markdown",
   "metadata": {
    "slideshow": {
     "slide_type": "subslide"
    }
   },
   "source": [
    "#### Testing in Julia"
   ]
  },
  {
   "cell_type": "code",
   "execution_count": 46,
   "metadata": {
    "slideshow": {
     "slide_type": "fragment"
    }
   },
   "outputs": [],
   "source": [
    "Types.SimplePair(x::T1,y::T2) where {T1,T2} = Types.SimplePair{T1,T2}(x,y)"
   ]
  },
  {
   "cell_type": "code",
   "execution_count": 47,
   "metadata": {
    "slideshow": {
     "slide_type": "fragment"
    }
   },
   "outputs": [
    {
     "data": {
      "text/plain": [
       "SimplePairAllocated{Bool,Bool}(Ptr{Void} @0x00007f90a1791d40)"
      ]
     },
     "execution_count": 47,
     "metadata": {},
     "output_type": "execute_result"
    }
   ],
   "source": [
    "p1 = Types.SimplePair(false,false)"
   ]
  },
  {
   "cell_type": "code",
   "execution_count": 48,
   "metadata": {
    "slideshow": {
     "slide_type": "fragment"
    }
   },
   "outputs": [
    {
     "data": {
      "text/plain": [
       "false"
      ]
     },
     "execution_count": 48,
     "metadata": {},
     "output_type": "execute_result"
    }
   ],
   "source": [
    "Types.get_x(p1)"
   ]
  },
  {
   "cell_type": "code",
   "execution_count": 49,
   "metadata": {
    "slideshow": {
     "slide_type": "subslide"
    }
   },
   "outputs": [
    {
     "data": {
      "text/html": [
       "10 methods for generic function <b>get_x</b>:<ul><li> get_x(arg1::<b>Union{CxxWrap.SmartPointer{T2}, T2} where T2<:SimplePair{Bool,Bool}</b>)</li> <li> get_x(arg1::<b>Union{CxxWrap.SmartPointer{T2}, T2} where T2<:SimplePair{Int32,Int32}</b>)</li> <li> get_x(arg1::<b>Union{CxxWrap.SmartPointer{T2}, T2} where T2<:SimplePair{Int32,Float32}</b>)</li> <li> get_x(arg1::<b>Union{CxxWrap.SmartPointer{T2}, T2} where T2<:SimplePair{Int32,Float64}</b>)</li> <li> get_x(arg1::<b>Union{CxxWrap.SmartPointer{T2}, T2} where T2<:SimplePair{Float32,Int32}</b>)</li> <li> get_x(arg1::<b>Union{CxxWrap.SmartPointer{T2}, T2} where T2<:SimplePair{Float32,Float32}</b>)</li> <li> get_x(arg1::<b>Union{CxxWrap.SmartPointer{T2}, T2} where T2<:SimplePair{Float32,Float64}</b>)</li> <li> get_x(arg1::<b>Union{CxxWrap.SmartPointer{T2}, T2} where T2<:SimplePair{Float64,Int32}</b>)</li> <li> get_x(arg1::<b>Union{CxxWrap.SmartPointer{T2}, T2} where T2<:SimplePair{Float64,Float32}</b>)</li> <li> get_x(arg1::<b>Union{CxxWrap.SmartPointer{T2}, T2} where T2<:SimplePair{Float64,Float64}</b>)</li> </ul>"
      ],
      "text/plain": [
       "# 10 methods for generic function \"get_x\":\n",
       "get_x(arg1::Union{CxxWrap.SmartPointer{T2}, T2} where T2<:SimplePair{Bool,Bool}) in Types\n",
       "get_x(arg1::Union{CxxWrap.SmartPointer{T2}, T2} where T2<:SimplePair{Int32,Int32}) in Types\n",
       "get_x(arg1::Union{CxxWrap.SmartPointer{T2}, T2} where T2<:SimplePair{Int32,Float32}) in Types\n",
       "get_x(arg1::Union{CxxWrap.SmartPointer{T2}, T2} where T2<:SimplePair{Int32,Float64}) in Types\n",
       "get_x(arg1::Union{CxxWrap.SmartPointer{T2}, T2} where T2<:SimplePair{Float32,Int32}) in Types\n",
       "get_x(arg1::Union{CxxWrap.SmartPointer{T2}, T2} where T2<:SimplePair{Float32,Float32}) in Types\n",
       "get_x(arg1::Union{CxxWrap.SmartPointer{T2}, T2} where T2<:SimplePair{Float32,Float64}) in Types\n",
       "get_x(arg1::Union{CxxWrap.SmartPointer{T2}, T2} where T2<:SimplePair{Float64,Int32}) in Types\n",
       "get_x(arg1::Union{CxxWrap.SmartPointer{T2}, T2} where T2<:SimplePair{Float64,Float32}) in Types\n",
       "get_x(arg1::Union{CxxWrap.SmartPointer{T2}, T2} where T2<:SimplePair{Float64,Float64}) in Types"
      ]
     },
     "execution_count": 49,
     "metadata": {},
     "output_type": "execute_result"
    }
   ],
   "source": [
    "methods(Types.get_x)"
   ]
  },
  {
   "cell_type": "code",
   "execution_count": 50,
   "metadata": {
    "slideshow": {
     "slide_type": "subslide"
    }
   },
   "outputs": [
    {
     "data": {
      "text/plain": [
       "SimplePairAllocated{Int32,Float64}(Ptr{Void} @0x00007f90a17517c0)"
      ]
     },
     "execution_count": 50,
     "metadata": {},
     "output_type": "execute_result"
    }
   ],
   "source": [
    "p2 = Types.SimplePair(Int32(3),1.0)"
   ]
  },
  {
   "cell_type": "code",
   "execution_count": 51,
   "metadata": {
    "slideshow": {
     "slide_type": "fragment"
    }
   },
   "outputs": [
    {
     "ename": "LoadError",
     "evalue": "\u001b[91mMethodError: no constructors have been defined for SimplePair{String,Int64}\u001b[39m",
     "output_type": "error",
     "traceback": [
      "\u001b[91mMethodError: no constructors have been defined for SimplePair{String,Int64}\u001b[39m",
      "",
      "Stacktrace:",
      " [1] \u001b[1mSimplePair\u001b[22m\u001b[22m\u001b[1m(\u001b[22m\u001b[22m::String, ::Int64\u001b[1m)\u001b[22m\u001b[22m at \u001b[1m./In[46]:1\u001b[22m\u001b[22m",
      " [2] \u001b[1minclude_string\u001b[22m\u001b[22m\u001b[1m(\u001b[22m\u001b[22m::String, ::String\u001b[1m)\u001b[22m\u001b[22m at \u001b[1m./loading.jl:522\u001b[22m\u001b[22m"
     ]
    }
   ],
   "source": [
    "p3 = Types.SimplePair(\"2\", 3)"
   ]
  },
  {
   "cell_type": "markdown",
   "metadata": {
    "slideshow": {
     "slide_type": "subslide"
    }
   },
   "source": [
    "### Template types with non-type parameters\n",
    "\n",
    "```c++\n",
    "template<typename T, int I>\n",
    "class NonType\n",
    "{\n",
    "public:\n",
    "  NonType(const T x) : m_x(x) {}\n",
    "  T compute() const { return I*m_x; }\n",
    "private:\n",
    "  T m_x;\n",
    "};\n",
    "```"
   ]
  },
  {
   "cell_type": "markdown",
   "metadata": {
    "slideshow": {
     "slide_type": "subslide"
    }
   },
   "source": [
    "#### Wrapping code\n",
    "```c++\n",
    "mod.add_type<jlcxx::Parametric<jlcxx::TypeVar<1>, jlcxx::TypeVar<2>>>(\"NonType\")\n",
    "    .apply<NonType<double, 2>>([](auto wrapped)\n",
    "  {\n",
    "    typedef typename decltype(wrapped)::type WrappedT;\n",
    "    wrapped.method(\"compute\", &WrappedT::compute);\n",
    "  });\n",
    "```"
   ]
  },
  {
   "cell_type": "markdown",
   "metadata": {
    "slideshow": {
     "slide_type": "fragment"
    }
   },
   "source": [
    "Fails...\n",
    "```\n",
    "error: static_assert failed \"No parameters found when applying type. Specialize jlcxx::BuildParameterList\n",
    "      for your combination of type and non-type parameters.\"\n",
    "```"
   ]
  },
  {
   "cell_type": "markdown",
   "metadata": {
    "slideshow": {
     "slide_type": "subslide"
    }
   },
   "source": [
    "#### Building parameter lists\n",
    "```c++\n",
    "template<typename T>\n",
    "struct BuildParameterList\n",
    "{\n",
    "  typedef ParameterList<> type;\n",
    "};\n",
    "\n",
    "// Match any combination of types only\n",
    "template<template<typename...> class T, typename... ParametersT>\n",
    "struct BuildParameterList<T<ParametersT...>>\n",
    "{\n",
    "  typedef ParameterList<ParametersT...> type;\n",
    "};\n",
    "```"
   ]
  },
  {
   "cell_type": "markdown",
   "metadata": {
    "slideshow": {
     "slide_type": "subslide"
    }
   },
   "source": [
    "Need to add:\n",
    "\n",
    "```c++\n",
    "template<typename T, int I>\n",
    "struct BuildParameterList<NonType<T, I>>\n",
    "{\n",
    "typedef ParameterList<T, std::integral_constant<int, I>> type;\n",
    "};\n",
    "```"
   ]
  },
  {
   "cell_type": "markdown",
   "metadata": {
    "slideshow": {
     "slide_type": "subslide"
    }
   },
   "source": [
    "#### Finally, in Julia:"
   ]
  },
  {
   "cell_type": "code",
   "execution_count": 53,
   "metadata": {},
   "outputs": [
    {
     "data": {
      "text/plain": [
       "NonTypeAllocated{Float64,2}(Ptr{Void} @0x00007f90a1c66490)"
      ]
     },
     "execution_count": 53,
     "metadata": {},
     "output_type": "execute_result"
    }
   ],
   "source": [
    "nt = Types.NonType{Float64,Int32(2)}(2)"
   ]
  },
  {
   "cell_type": "code",
   "execution_count": 54,
   "metadata": {
    "slideshow": {
     "slide_type": "fragment"
    }
   },
   "outputs": [
    {
     "data": {
      "text/plain": [
       "4.0"
      ]
     },
     "execution_count": 54,
     "metadata": {},
     "output_type": "execute_result"
    }
   ],
   "source": [
    "Types.compute(nt)"
   ]
  },
  {
   "cell_type": "markdown",
   "metadata": {
    "slideshow": {
     "slide_type": "slide"
    }
   },
   "source": [
    "## [Trilinos.jl](https://github.com/barche/Trilinos.jl)\n",
    "\n",
    "* Interface to some parts of the [Trilinos](https://trilinos.org/) C++ library\n",
    "* Focus on the Tpetra matrix library and iterative solvers\n",
    "* Uses CxxWrap.jl\n",
    "* Example: 2D Laplace in C++ and Julia"
   ]
  },
  {
   "cell_type": "markdown",
   "metadata": {
    "slideshow": {
     "slide_type": "subslide"
    }
   },
   "source": [
    "### Laplace example:\n",
    "Solve the equation $\\nabla^2 \\varphi + f = 0 $ with $f = 2h^2((1-x^2)+(1-y^2))$ and 0 on the boundary:\n",
    "\n",
    "<img src=\"images/laplace2d.png\" width=700px>"
   ]
  },
  {
   "cell_type": "markdown",
   "metadata": {
    "slideshow": {
     "slide_type": "subslide"
    }
   },
   "source": [
    "### C++ code\n",
    "```c++\n",
    "template<typename MatrixT>\n",
    "void fill_laplace2d(MatrixT& A, const CartesianGrid& g)\n",
    "{\n",
    "  Teuchos::TimeMonitor local_timer(*fill_time);\n",
    "  const auto& rowmap = *A.getRowMap();\n",
    "  const local_t n_my_elms = rowmap.getNodeNumElements();\n",
    "\n",
    "  // storage for the per-row values\n",
    "  global_t row_indices[5] = {0,0,0,0,0};\n",
    "  scalar_t row_values[5] = {4.0,-1.0,-1.0,-1.0,-1.0};\n",
    "\n",
    "  for(local_t i = 0; i != n_my_elms; ++i)\n",
    "  {\n",
    "    const global_t global_row = rowmap.getGlobalElement(i);\n",
    "    const local_t row_n_elems = laplace2d_indices(row_indices, global_row, g);\n",
    "    row_values[0] = 4.0 - (5-row_n_elems);\n",
    "    A.replaceGlobalValues(global_row, Teuchos::ArrayView<global_t>(row_indices,row_n_elems), Teuchos::ArrayView<scalar_t>(row_values,row_n_elems));\n",
    "  }\n",
    "}\n",
    "```"
   ]
  },
  {
   "cell_type": "markdown",
   "metadata": {
    "slideshow": {
     "slide_type": "subslide"
    }
   },
   "source": [
    "### Julia code\n",
    "```julia\n",
    "function fill_laplace2d!(A, g::CartesianGrid)\n",
    "  rowmap = Tpetra.getRowMap(A)\n",
    "  n_my_elms = Tpetra.getNodeNumElements(rowmap)\n",
    "\n",
    "  # storage for the per-row values\n",
    "  row_indices = [0,0,0,0,0]\n",
    "  row_values = [4.0,-1.0,-1.0,-1.0,-1.0]\n",
    "\n",
    "  for i in 0:n_my_elms-1\n",
    "    global_row = Tpetra.getGlobalElement(rowmap,i)\n",
    "    row_n_elems = laplace2d_indices!(row_indices, global_row, g)\n",
    "    row_values[1] = 4.0 - (5-row_n_elems)\n",
    "    Tpetra.replaceGlobalValues(A, global_row, Teuchos.ArrayView(row_indices,row_n_elems), Teuchos.ArrayView(row_values,row_n_elems))\n",
    "  end\n",
    "end\n",
    "```"
   ]
  },
  {
   "cell_type": "markdown",
   "metadata": {
    "slideshow": {
     "slide_type": "subslide"
    }
   },
   "source": [
    "### Timing comparison for 1000 x 1000 matrix (in ms)\n",
    "|                  |C++  |Julia|\n",
    "|------------------|-----|-----|\n",
    "|Graph construction|190.7|115.2|\n",
    "|Source term       |41.17|32.01|\n",
    "|Matrix filling    |137.1|102.5|\n",
    "|Dirichlet setup   |0.899|0.761|\n",
    "|Check time        |41.06|29.42|"
   ]
  },
  {
   "cell_type": "markdown",
   "metadata": {
    "slideshow": {
     "slide_type": "slide"
    }
   },
   "source": [
    "# Conclusions\n",
    "* C++ integration with minimal overhead\n",
    "* Expanding on C++ code in pure Julia is possible\n",
    "* Some CxxWrap todo's:\n",
    "  - Better Array wrappers\n",
    "  - std containers\n",
    "  - exploit Julia dot operator overload for member access"
   ]
  }
 ],
 "metadata": {
  "celltoolbar": "Slideshow",
  "kernelspec": {
   "display_name": "Julia 0.6.2",
   "language": "julia",
   "name": "julia-0.6"
  },
  "language_info": {
   "file_extension": ".jl",
   "mimetype": "application/julia",
   "name": "julia",
   "version": "0.6.2"
  }
 },
 "nbformat": 4,
 "nbformat_minor": 2
}
