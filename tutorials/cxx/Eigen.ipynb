{
 "cells": [
  {
   "cell_type": "code",
   "execution_count": 1,
   "metadata": {},
   "outputs": [],
   "source": [
    "using Cxx"
   ]
  },
  {
   "cell_type": "code",
   "execution_count": 2,
   "metadata": {},
   "outputs": [
    {
     "data": {
      "text/plain": [
       "true"
      ]
     },
     "execution_count": 2,
     "metadata": {},
     "output_type": "execute_result"
    }
   ],
   "source": [
    "# The EIGEN_DONT_ALIGN_STATICALLY is needed because Julia does not respect the alignment constraints imposed by Eigen.\n",
    "cxx\"\"\"\n",
    "       #define EIGEN_DONT_ALIGN_STATICALLY\n",
    "       #include \"../eigen3/Eigen/Dense\"\n",
    "\"\"\""
   ]
  },
  {
   "cell_type": "code",
   "execution_count": 8,
   "metadata": {},
   "outputs": [],
   "source": [
    "# Wrapper for Eigen matrix\n",
    "struct EMatrix{T,Rows,Cols,EigenT} <: AbstractMatrix{T}\n",
    "    eigenmat::EigenT\n",
    "\n",
    "    function EMatrix{T,Rows,Cols}() where {T,Rows,Cols}\n",
    "        emat = icxx\"Eigen::Matrix<$T,$(Val{Rows}),$(Val{Cols})>();\"\n",
    "        return new{T,Rows,Cols,typeof(emat)}(emat)\n",
    "    end\n",
    "\n",
    "    EMatrix{T,Rows,Cols}(emat::EigenT) where {T,Rows,Cols,EigenT} = new{T,Rows,Cols,EigenT}(emat)\n",
    "end"
   ]
  },
  {
   "cell_type": "code",
   "execution_count": 9,
   "metadata": {},
   "outputs": [],
   "source": [
    "# Implement the array interface\n",
    "Base.IndexStyle(::Type{EMatrix{T,Rows,Cols,EigenT}}) where {T,Rows,Cols,EigenT} = IndexCartesian()\n",
    "Base.size(a::EMatrix{T,Rows,Cols,EigenT}) where {T,Rows,Cols,EigenT} = (Rows,Cols)\n",
    "Base.getindex(a::EMatrix{T,Rows,Cols,EigenT}, i::Int, j::Int) where {T,Rows,Cols,EigenT} =\n",
    "    T(icxx\"$(a.eigenmat)($(i-1),$(j-1));\")\n",
    "Base.setindex!(a::EMatrix, v, i::Int, j::Int) = icxx\"$(a.eigenmat)($(i-1),$(j-1)) = $v;\""
   ]
  },
  {
   "cell_type": "code",
   "execution_count": 17,
   "metadata": {},
   "outputs": [],
   "source": [
    "# Implement math ops here\n",
    "function Base.:(+)(a::EMatrix{T,Rows,Cols,EigenT1}, b::EMatrix{T,Rows,Cols,EigenT2}) where {T,Rows,Cols,EigenT1,EigenT2}\n",
    "    return EMatrix{T,Rows,Cols}(icxx\"$(a.eigenmat) + $(b.eigenmat);\")\n",
    "end"
   ]
  },
  {
   "cell_type": "code",
   "execution_count": 29,
   "metadata": {},
   "outputs": [
    {
     "data": {
      "text/plain": [
       "4×4 EMatrix{Float64,4,4,Cxx.CppValue{Cxx.CxxQualType{Cxx.CppTemplate{Cxx.CppBaseType{Symbol(\"Eigen::Matrix\")},Tuple{Float64,Val{4},Val{4},Val{0},Val{4},Val{4}}},(false, false, false)},128}}:\n",
       " 2.21988e-314  2.21988e-314  2.21988e-314  2.21988e-314\n",
       " 2.21988e-314  2.21988e-314  2.21988e-314  2.21988e-314\n",
       " 2.21988e-314  2.21988e-314  2.21988e-314  2.21988e-314\n",
       " 2.21988e-314  2.21988e-314  2.21988e-314  2.21988e-314"
      ]
     },
     "execution_count": 29,
     "metadata": {},
     "output_type": "execute_result"
    }
   ],
   "source": [
    "# Uninitialized 4 × 4 matrix\n",
    "m1 = EMatrix{Float64,4,4}()"
   ]
  },
  {
   "cell_type": "code",
   "execution_count": 30,
   "metadata": {},
   "outputs": [
    {
     "data": {
      "text/plain": [
       "4×4 EMatrix{Float64,4,4,Cxx.CppValue{Cxx.CxxQualType{Cxx.CppTemplate{Cxx.CppBaseType{Symbol(\"Eigen::Matrix\")},Tuple{Float64,Val{4},Val{4},Val{0},Val{4},Val{4}}},(false, false, false)},128}}:\n",
       " 0.461492  0.266991   0.0336359  0.972871\n",
       " 0.957333  0.299609   0.228106   0.450773\n",
       " 0.499779  0.0275278  0.119247   0.729397\n",
       " 0.605713  0.405994   0.754813   0.145856"
      ]
     },
     "execution_count": 30,
     "metadata": {},
     "output_type": "execute_result"
    }
   ],
   "source": [
    "# This works because we implemented the AbstractArray interface\n",
    "rand!(m1)"
   ]
  },
  {
   "cell_type": "code",
   "execution_count": 31,
   "metadata": {},
   "outputs": [
    {
     "data": {
      "text/plain": [
       "4×4 EMatrix{Float64,4,4,Cxx.CppValue{Cxx.CxxQualType{Cxx.CppTemplate{Cxx.CppBaseType{Symbol(\"Eigen::Matrix\")},Tuple{Float64,Val{4},Val{4},Val{0},Val{4},Val{4}}},(false, false, false)},128}}:\n",
       " 1.0  1.0  1.0  1.0\n",
       " 1.0  1.0  1.0  1.0\n",
       " 1.0  1.0  1.0  1.0\n",
       " 1.0  1.0  1.0  1.0"
      ]
     },
     "execution_count": 31,
     "metadata": {},
     "output_type": "execute_result"
    }
   ],
   "source": [
    "m2 = EMatrix{Float64,4,4}()\n",
    "fill!(m2,1)"
   ]
  },
  {
   "cell_type": "code",
   "execution_count": 32,
   "metadata": {},
   "outputs": [
    {
     "data": {
      "text/plain": [
       "4×4 EMatrix{Float64,4,4,Cxx.CppValue{Cxx.CxxQualType{Cxx.CppTemplate{Cxx.CppBaseType{Symbol(\"Eigen::CwiseBinaryOp\")},Tuple{Cxx.CxxQualType{Cxx.CppTemplate{Cxx.CppBaseType{Symbol(\"Eigen::internal::scalar_sum_op\")},Tuple{Float64,Float64}},(false, false, false)},Cxx.CxxQualType{Cxx.CppTemplate{Cxx.CppBaseType{Symbol(\"Eigen::Matrix\")},Tuple{Float64,Val{4},Val{4},Val{0},Val{4},Val{4}}},(true, false, false)},Cxx.CxxQualType{Cxx.CppTemplate{Cxx.CppBaseType{Symbol(\"Eigen::Matrix\")},Tuple{Float64,Val{4},Val{4},Val{0},Val{4},Val{4}}},(true, false, false)}}},(true, false, false)},24}}:\n",
       " 1.46149  1.26699  1.03364  1.97287\n",
       " 1.95733  1.29961  1.22811  1.45077\n",
       " 1.49978  1.02753  1.11925  1.7294 \n",
       " 1.60571  1.40599  1.75481  1.14586"
      ]
     },
     "execution_count": 32,
     "metadata": {},
     "output_type": "execute_result"
    }
   ],
   "source": [
    "# Summing keeps the internal expression template (Eigen::CwiseBinaryOp here)\n",
    "m1 + m2"
   ]
  },
  {
   "cell_type": "code",
   "execution_count": null,
   "metadata": {},
   "outputs": [],
   "source": []
  }
 ],
 "metadata": {
  "kernelspec": {
   "display_name": "Julia 0.6.2",
   "language": "julia",
   "name": "julia-0.6"
  },
  "language_info": {
   "file_extension": ".jl",
   "mimetype": "application/julia",
   "name": "julia",
   "version": "0.6.2"
  }
 },
 "nbformat": 4,
 "nbformat_minor": 2
}
