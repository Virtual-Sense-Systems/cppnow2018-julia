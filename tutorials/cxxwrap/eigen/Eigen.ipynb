{
 "cells": [
  {
   "cell_type": "markdown",
   "metadata": {},
   "source": [
    "# Eigen tutorial\n",
    "\n",
    "This tutorial shows how to wrap the [Eigen](https://eigen.tuxfamily.org) C++ matrix library. To get started, set and build the CMake project in the current directory, and set the build directory below. To build the project, the `JlCxx_DIR` CMake variable should be set to the directory containing the JlCxx config file, e.g. by default: `$HOME/.julia/v0.6/CxxWrap/deps/usr/lib/cmake/JlCxx`"
   ]
  },
  {
   "cell_type": "code",
   "execution_count": 1,
   "metadata": {},
   "outputs": [
    {
     "data": {
      "text/plain": [
       "\"build\""
      ]
     },
     "execution_count": 1,
     "metadata": {},
     "output_type": "execute_result"
    }
   ],
   "source": [
    "using CxxWrap\n",
    "builddir = \"build\""
   ]
  },
  {
   "cell_type": "markdown",
   "metadata": {},
   "source": [
    "Load the library. Note that it may be necessary to restart the kernel and rerun this cell and the previous one when the library is modified."
   ]
  },
  {
   "cell_type": "code",
   "execution_count": 2,
   "metadata": {},
   "outputs": [],
   "source": [
    "wrap_modules(joinpath(builddir, \"libeigenjl\"))"
   ]
  },
  {
   "cell_type": "markdown",
   "metadata": {},
   "source": [
    "As a starter, we have provided `MatrixXd` and conversion to and from a Julia array:"
   ]
  },
  {
   "cell_type": "code",
   "execution_count": 9,
   "metadata": {},
   "outputs": [
    {
     "data": {
      "text/plain": [
       "4×3 Array{Float64,2}:\n",
       " 0.224111   0.126029  0.682547\n",
       " 0.0894753  0.632792  0.685278\n",
       " 0.0616104  0.263538  0.897605\n",
       " 0.34287    0.149925  0.42335 "
      ]
     },
     "execution_count": 9,
     "metadata": {},
     "output_type": "execute_result"
    }
   ],
   "source": [
    "testmat = rand(4,3)"
   ]
  },
  {
   "cell_type": "code",
   "execution_count": 10,
   "metadata": {},
   "outputs": [
    {
     "data": {
      "text/plain": [
       "MatrixXdAllocated(Ptr{Void} @0x00007fca5f0a2320)"
      ]
     },
     "execution_count": 10,
     "metadata": {},
     "output_type": "execute_result"
    }
   ],
   "source": [
    "em1 = Eigen.MatrixXd(testmat)"
   ]
  },
  {
   "cell_type": "code",
   "execution_count": 11,
   "metadata": {},
   "outputs": [
    {
     "data": {
      "text/plain": [
       "4×3 BitArray{2}:\n",
       " true  true  true\n",
       " true  true  true\n",
       " true  true  true\n",
       " true  true  true"
      ]
     },
     "execution_count": 11,
     "metadata": {},
     "output_type": "execute_result"
    }
   ],
   "source": [
    "Array{Float64,2}(em1) .== testmat"
   ]
  },
  {
   "cell_type": "markdown",
   "metadata": {},
   "source": [
    "## Ideas for extension\n",
    "1. Provide some operators (use e.g. `+` as function name)\n",
    "2. Add support for constant-size matrices\n",
    "3. Add element access (function names `getindex` and `setindex!` are interpreted as operator[]"
   ]
  }
 ],
 "metadata": {
  "kernelspec": {
   "display_name": "Julia 0.6.2",
   "language": "julia",
   "name": "julia-0.6"
  },
  "language_info": {
   "file_extension": ".jl",
   "mimetype": "application/julia",
   "name": "julia",
   "version": "0.6.2"
  }
 },
 "nbformat": 4,
 "nbformat_minor": 2
}
